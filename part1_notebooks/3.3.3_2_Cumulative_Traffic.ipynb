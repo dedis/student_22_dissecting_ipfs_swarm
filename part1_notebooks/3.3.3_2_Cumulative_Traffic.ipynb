{
 "cells": [
  {
   "cell_type": "markdown",
   "id": "952509e2",
   "metadata": {},
   "source": [
    "To better understand the distribution of traffic among different agents, we can first sort them by the total size of their requests, then tally the cumulative traffic."
   ]
  },
  {
   "cell_type": "code",
   "execution_count": null,
   "id": "d3f054d5",
   "metadata": {},
   "outputs": [],
   "source": [
    "import pandas as pd\n",
    "import numpy as np\n",
    "from scipy import stats\n",
    "import plotly.express as px\n",
    "import plotly.graph_objects as go\n",
    "from plotly.subplots import make_subplots\n",
    "pd.set_option('max_columns', None)"
   ]
  },
  {
   "cell_type": "code",
   "execution_count": null,
   "id": "0e895715",
   "metadata": {},
   "outputs": [],
   "source": [
    "df_groupby_user = pd.read_csv('data_groupby_user.csv', index_col=0)\n",
    "df_groupby_user.shape"
   ]
  },
  {
   "cell_type": "code",
   "execution_count": null,
   "id": "81c12679",
   "metadata": {},
   "outputs": [],
   "source": [
    "df1 = df_groupby_user[['agent', 'request_sum']]\n",
    "# sort by request size\n",
    "df1 = df1.sort_values(by=['request_sum'], ascending=False)\n",
    "df1 = df1['request_sum'].reset_index()\n",
    "df1 = df1.drop(['index'], axis=1)\n",
    "# calculate cumulative sum\n",
    "df1['request_size_cumulative'] = df1.cumsum()\n",
    "df1['request_size_cumulative'] = df1['request_size_cumulative']/pow(1024,4)\n",
    "# calculate percentage\n",
    "total_size = df1.iloc[-1]['request_size_cumulative']\n",
    "df1['percentage'] = df1['request_size_cumulative'] / total_size\n",
    "df1 = df1.reset_index()\n",
    "# convert x to percentage\n",
    "total_user = df1.shape[0]\n",
    "df1['idx_percentage'] = df1['index'] / total_user"
   ]
  },
  {
   "cell_type": "code",
   "execution_count": null,
   "id": "27a2b876",
   "metadata": {},
   "outputs": [],
   "source": [
    "total_size"
   ]
  },
  {
   "cell_type": "code",
   "execution_count": null,
   "id": "294f4514",
   "metadata": {},
   "outputs": [],
   "source": [
    "# find percentage of id corresponding 80% of request\n",
    "# df1[(df1['percentage']>0.799)&(df1['percentage']<0.801)]\n",
    "# 0.057"
   ]
  },
  {
   "cell_type": "code",
   "execution_count": null,
   "id": "fe291cc5",
   "metadata": {},
   "outputs": [],
   "source": [
    "fig = px.line(df1, x=\"idx_percentage\", y=\"request_size_cumulative\", title='Cumulative traffic by agent')\n",
    "\n",
    "fig.update_layout(xaxis=dict(tickformat=\".0%\"))\n",
    "fig.update_xaxes(title=\"agent (sorted by request size descending)\")\n",
    "fig.update_yaxes(title=\"cumulative traffic in TB\")\n",
    "\n",
    "fig.add_hline(y=total_size*0.8, line_width=1, line_dash=\"dash\", line_color=\"grey\", \n",
    "              annotation_text=\"80% of total traffic\", \n",
    "              annotation_position=\"bottom right\")\n",
    "fig.add_vline(x=0.057, line_width=1, line_dash=\"dash\", line_color=\"grey\", \n",
    "              annotation_text=\"5.7% of total agent\", \n",
    "              annotation_position=\"bottom right\")\n",
    "\n",
    "fig.show()"
   ]
  }
 ],
 "metadata": {
  "kernelspec": {
   "display_name": "Python 3 (ipykernel)",
   "language": "python",
   "name": "python3"
  },
  "language_info": {
   "codemirror_mode": {
    "name": "ipython",
    "version": 3
   },
   "file_extension": ".py",
   "mimetype": "text/x-python",
   "name": "python",
   "nbconvert_exporter": "python",
   "pygments_lexer": "ipython3",
   "version": "3.9.6"
  },
  "toc": {
   "base_numbering": 1,
   "nav_menu": {},
   "number_sections": true,
   "sideBar": true,
   "skip_h1_title": false,
   "title_cell": "Table of Contents",
   "title_sidebar": "Contents",
   "toc_cell": false,
   "toc_position": {},
   "toc_section_display": true,
   "toc_window_display": false
  }
 },
 "nbformat": 4,
 "nbformat_minor": 5
}
