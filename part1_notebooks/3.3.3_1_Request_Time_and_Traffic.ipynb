{
 "cells": [
  {
   "cell_type": "code",
   "execution_count": null,
   "id": "ed9716e3",
   "metadata": {},
   "outputs": [],
   "source": [
    "import pandas as pd\n",
    "import numpy as np\n",
    "from scipy import stats\n",
    "import plotly.express as px\n",
    "import plotly.graph_objects as go\n",
    "from plotly.subplots import make_subplots \n",
    "from tqdm.notebook import tqdm\n",
    "import re \n",
    "pd.set_option('max_columns', None)\n",
    "pd.options.display.max_colwidth = 100\n",
    "from pandas.api.types import CategoricalDtype"
   ]
  },
  {
   "cell_type": "code",
   "execution_count": null,
   "id": "c30b178a",
   "metadata": {},
   "outputs": [],
   "source": [
    "df = pd.read_csv('data.csv', index_col=0)\n",
    "df.shape"
   ]
  },
  {
   "cell_type": "markdown",
   "id": "a1f5ecf4",
   "metadata": {},
   "source": [
    "In this part, we aim to understand how different user agents (e.g. web browsers) are accessing the network and the volume of requests they are generating. We will begin by tallying the total number of requests made by each agent and group them accordingly. Then, we will calculate each group's contribution to the total requests and traffic across the network."
   ]
  },
  {
   "cell_type": "markdown",
   "id": "abefd1c8",
   "metadata": {},
   "source": [
    "# Number of agents in each range"
   ]
  },
  {
   "cell_type": "code",
   "execution_count": null,
   "id": "19c56919",
   "metadata": {},
   "outputs": [],
   "source": [
    "df1 = df[['agent','timestamp']].groupby(['agent']).count()\n",
    "df1 = df1.rename(columns={\"timestamp\": \"count\"})\n",
    "df1 = df1.reset_index()\n",
    "df1.head()"
   ]
  },
  {
   "cell_type": "code",
   "execution_count": null,
   "id": "74ed6ebb",
   "metadata": {},
   "outputs": [],
   "source": [
    "df2 = pd.DataFrame(columns = ['request_time', 'count'])\n",
    "\n",
    "def addRow(df2, l, r):\n",
    "    df_temp = df1[(df1['count'] >= l) & (df1['count'] < r)]\n",
    "    c = df_temp.count()[0]\n",
    "    df2 = df2.append({'request_time':'['+str(l)+','+str(r)+')', 'count':c}, ignore_index = True)\n",
    "    return df2\n",
    "\n",
    "df2 = addRow(df2, 1, 2)\n",
    "df2 = addRow(df2, 2, 10)\n",
    "df2 = addRow(df2, 10, 100)\n",
    "df2 = addRow(df2, 100, 1000)\n",
    "df2 = addRow(df2, 1000, 10000)\n",
    "df2 = addRow(df2, 10000, 100000)\n",
    "df2 = addRow(df2, 100000, 1000000)\n",
    "\n",
    "df2.replace('[1,2)', '1')\n",
    "df2.replace('[100000,1000000)', '[100000,+∞)')\n",
    "\n",
    "total = df2['count'].sum()\n",
    "df2['percentage'] = df2['count']/total\n",
    "df2"
   ]
  },
  {
   "cell_type": "code",
   "execution_count": null,
   "id": "e25237e6",
   "metadata": {},
   "outputs": [],
   "source": [
    "fig = px.bar(df2, x='request_time', y='count', text=[str(x[0])+'\\n{0:1.2f}%'.format(x[1]*100) for x in zip(df2['count'],df2['percentage'])])\n",
    "\n",
    "fig.update_xaxes(title='range of request count per agent')\n",
    "fig.update_yaxes(title='agent count')\n",
    "                                                                 \n",
    "fig.show()"
   ]
  },
  {
   "cell_type": "markdown",
   "id": "3ab7c48c",
   "metadata": {},
   "source": [
    "# Number of requests and traffic for each group of agents"
   ]
  },
  {
   "cell_type": "code",
   "execution_count": null,
   "id": "1c1ad887",
   "metadata": {},
   "outputs": [],
   "source": [
    "df3_1 = df[['agent','timestamp']].groupby(['agent']).agg('count')\n",
    "df3_1 = df3_1.rename(columns={\"timestamp\": \"count\"})\n",
    "df3_1 = df3_1.reset_index()\n",
    "\n",
    "df3_2 = df[['agent','bytes_returned']].groupby(['agent']).agg('sum')\n",
    "df3_2 = df3_2.rename(columns={\"bytes_returned\": \"size\"})\n",
    "df3_2 = df3_2.reset_index()\n",
    "\n",
    "df3 = df3_1.set_index('agent').join(df3_2.set_index('agent'))\n",
    "df3 = df3.reset_index()\n",
    "\n",
    "df3.head()"
   ]
  },
  {
   "cell_type": "code",
   "execution_count": null,
   "id": "b9adc708",
   "metadata": {},
   "outputs": [],
   "source": [
    "df3['type'] = ''\n",
    "\n",
    "def addType(l, r, name):\n",
    "    df3.loc[(df3['count'] >= l) & (df3['count'] < r), 'type'] = name\n",
    "\n",
    "addType(1, 2, '1')\n",
    "addType(2, 10, '[2,10)')\n",
    "addType(10, 100, '[10,100)')\n",
    "addType(100, 1000, '[100,1,000)')\n",
    "addType(1000, 10000, '[1,000,10,000)')\n",
    "addType(10000, 100000, '[10,000,100,000)')\n",
    "addType(100000, 1000000, '[100,000,1,000,000)')\n",
    "\n",
    "df3.head()"
   ]
  },
  {
   "cell_type": "code",
   "execution_count": null,
   "id": "5b3392b9",
   "metadata": {},
   "outputs": [],
   "source": [
    "df4_1 = df3[['count', 'type']].groupby('type').agg('count')\n",
    "df4_1 = df4_1.reset_index()\n",
    "\n",
    "df4_2 = df3[['size', 'type']].groupby('type').agg('sum')\n",
    "df4_2 = df4_2.reset_index()\n",
    "\n",
    "df4 = df4_1.set_index('type').join(df4_2.set_index('type'))\n",
    "df4 = df4.reset_index()\n",
    "\n",
    "cat_order = CategoricalDtype(\n",
    "    ['1', '[2,10)', '[10,100)', '[100,1,000)', '[1,000,10,000)', '[10,000,100,000)', '[100,000,1,000,000)'], \n",
    "    ordered=True\n",
    ")\n",
    "df4['type'] = df4['type'].astype(cat_order)\n",
    "df4 = df4.sort_values('type')\n",
    "df4['size'] = df4['size']/pow(1024,3) #GB\n",
    "df4.head()"
   ]
  },
  {
   "cell_type": "code",
   "execution_count": null,
   "id": "e1aed280",
   "metadata": {},
   "outputs": [],
   "source": [
    "# Create subplots: use 'domain' type for Pie subplot\n",
    "fig = make_subplots(rows=1, cols=2, specs=[[{'type':'domain'}, {'type':'domain'}]])\n",
    "\n",
    "fig.add_trace(go.Pie(\n",
    "        labels=df4['type'],\n",
    "        values=df4['count'],\n",
    "        sort=False),1,1\n",
    "    )\n",
    "fig.add_trace(go.Pie(\n",
    "        labels=df4['type'],\n",
    "        values=df4['size'],\n",
    "        sort=False),1,2\n",
    "    )\n",
    "\n",
    "\n",
    "# Use `hole` to create a donut-like pie chart\n",
    "fig.update_traces(hole=.4, hoverinfo=\"label+percent+name\")\n",
    "\n",
    "fig.update_layout(\n",
    "    title_text=\"Number of requests and traffic for each group of agents\",\n",
    "    # Add annotations in the center of the donut pies.\n",
    "    annotations=[dict(text='Request', x=0.16, y=0.5, font_size=20, showarrow=False),\n",
    "                 dict(text='Traffic', x=0.82, y=0.5, font_size=20, showarrow=False)])\n",
    "\n",
    "fig.show()"
   ]
  }
 ],
 "metadata": {
  "kernelspec": {
   "display_name": "Python 3 (ipykernel)",
   "language": "python",
   "name": "python3"
  },
  "language_info": {
   "codemirror_mode": {
    "name": "ipython",
    "version": 3
   },
   "file_extension": ".py",
   "mimetype": "text/x-python",
   "name": "python",
   "nbconvert_exporter": "python",
   "pygments_lexer": "ipython3",
   "version": "3.9.6"
  },
  "toc": {
   "base_numbering": 1,
   "nav_menu": {},
   "number_sections": true,
   "sideBar": true,
   "skip_h1_title": false,
   "title_cell": "Table of Contents",
   "title_sidebar": "Contents",
   "toc_cell": false,
   "toc_position": {},
   "toc_section_display": true,
   "toc_window_display": false
  }
 },
 "nbformat": 4,
 "nbformat_minor": 5
}
