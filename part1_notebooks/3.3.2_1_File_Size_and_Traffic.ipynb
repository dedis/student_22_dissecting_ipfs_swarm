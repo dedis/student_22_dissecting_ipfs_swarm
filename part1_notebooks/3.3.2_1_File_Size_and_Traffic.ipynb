{
 "cells": [
  {
   "cell_type": "code",
   "execution_count": null,
   "id": "5e317585",
   "metadata": {},
   "outputs": [],
   "source": [
    "import pandas as pd\n",
    "import numpy as np\n",
    "from scipy import stats\n",
    "import plotly.express as px\n",
    "import plotly.graph_objects as go\n",
    "from plotly.subplots import make_subplots \n",
    "from tqdm.notebook import tqdm\n",
    "import re \n",
    "pd.set_option('max_columns', None)\n",
    "pd.options.display.max_colwidth = 100\n",
    "from pandas.api.types import CategoricalDtype"
   ]
  },
  {
   "cell_type": "code",
   "execution_count": null,
   "id": "ccc8c644",
   "metadata": {},
   "outputs": [],
   "source": [
    "df = pd.read_csv('data.csv', index_col=0)\n",
    "df.shape"
   ]
  },
  {
   "cell_type": "markdown",
   "id": "95598cc1",
   "metadata": {},
   "source": [
    "First, tally the size distribution of all requested files. Then group the requests by file size and count the total number of requests and traffic for each group. By performing this analysis, we can gain insights into which types of files and how much resources are being devoted to serving these requests."
   ]
  },
  {
   "cell_type": "markdown",
   "id": "b79ba526",
   "metadata": {},
   "source": [
    "# Number of files in each size range"
   ]
  },
  {
   "cell_type": "code",
   "execution_count": null,
   "id": "060e705c",
   "metadata": {},
   "outputs": [],
   "source": [
    "df1 = df[['cid','bytes_returned']].groupby('cid').agg(['count','mean'])\n",
    "df1.columns = df1.columns.get_level_values(1)\n",
    "df1 = df1.reset_index()\n",
    "df1['mean'] = df1['mean'].astype(int)\n",
    "df1 = df1.rename(columns={\"mean\": \"size\"})\n",
    "df1 = df1.sort_values(by=['size'])\n",
    "df1.head()"
   ]
  },
  {
   "cell_type": "code",
   "execution_count": null,
   "id": "eb18f309",
   "metadata": {},
   "outputs": [],
   "source": [
    "df1.shape"
   ]
  },
  {
   "cell_type": "code",
   "execution_count": null,
   "id": "169eb3e8",
   "metadata": {},
   "outputs": [],
   "source": [
    "df1['size'] = df1['size']/1024\n",
    "df1.describe()"
   ]
  },
  {
   "cell_type": "code",
   "execution_count": null,
   "id": "49e94d2c",
   "metadata": {},
   "outputs": [],
   "source": [
    "df2 = pd.DataFrame(columns = ['size', 'count'])\n",
    "\n",
    "def addRow(df2, l, r, name):\n",
    "    df_temp = df1[(df1['size'] >= l) & (df1['size'] < r)]\n",
    "    c = df_temp.count()[0]\n",
    "    df2 = df2.append({'size':name, 'count':c}, ignore_index = True)\n",
    "    return df2\n",
    "\n",
    "df2 = addRow(df2, 0, 1, '<1KB')\n",
    "df2 = addRow(df2, 1, 4, '1~4KB')\n",
    "df2 = addRow(df2, 4, 64, '4~64KB')\n",
    "df2 = addRow(df2, 64, 256, '64KB~256KB')\n",
    "df2 = addRow(df2, 256, 1024, '256KB~1MB')\n",
    "df2 = addRow(df2, 1024, 1024*16, '1MB~16MB')\n",
    "df2 = addRow(df2, 1024*16, 10000000, '>16MB')\n",
    "\n",
    "# df2.replace('[1,2)', '1')\n",
    "# df2.replace('[10000,100000)', '[10000,+∞)')\n",
    "\n",
    "total = df2['count'].sum()\n",
    "df2['percentage'] = df2['count']/total\n",
    "df2"
   ]
  },
  {
   "cell_type": "code",
   "execution_count": null,
   "id": "bebe73ff",
   "metadata": {},
   "outputs": [],
   "source": [
    "fig = px.bar(df2, x='size', y='count', text=['\\n{0:1.2f}%'.format(x*100) for x in df2['percentage']])\n",
    "\n",
    "fig.update_xaxes(title='file size')\n",
    "fig.update_yaxes(title='file count')\n",
    "                                                                 \n",
    "fig.show()"
   ]
  },
  {
   "cell_type": "markdown",
   "id": "4b6edcf3",
   "metadata": {},
   "source": [
    "# Number of requests and traffic in each size range"
   ]
  },
  {
   "cell_type": "code",
   "execution_count": null,
   "id": "9518f676",
   "metadata": {},
   "outputs": [],
   "source": [
    "df3 = df[['cid','bytes_returned']]\n",
    "df3 = df3.rename(columns={\"bytes_returned\": \"size\"})\n",
    "df3['size'] = df3['size']/1024 #KB\n",
    "df3.head()"
   ]
  },
  {
   "cell_type": "code",
   "execution_count": null,
   "id": "0d687292",
   "metadata": {},
   "outputs": [],
   "source": [
    "df3['size_type'] = ''\n",
    "\n",
    "def addSizeType(l, r, name):\n",
    "    df3.loc[(df3['size'] >= l) & (df3['size'] < r), 'size_type'] = name\n",
    "\n",
    "addSizeType(0, 1, '<1KB')\n",
    "addSizeType(1, 4, '1~4KB')\n",
    "addSizeType(4, 64, '4~64KB')\n",
    "addSizeType(64, 256, '64KB~256KB')\n",
    "addSizeType(256, 1024, '256KB~1MB')\n",
    "addSizeType(1024, 1024*16, '1MB~16MB')\n",
    "addSizeType(1024*16, 1024*1024*16, '>16MB')\n",
    "\n",
    "df3.head()"
   ]
  },
  {
   "cell_type": "code",
   "execution_count": null,
   "id": "ed8719f1",
   "metadata": {},
   "outputs": [],
   "source": [
    "df4_1 = df3[['size','size_type']].groupby('size_type').agg('sum')\n",
    "df4_1['size'] = df4_1['size']/pow(1024,2) # GB\n",
    "df4_1 = df4_1.reset_index()\n",
    "\n",
    "df4_2 = df3[['cid','size_type']].groupby('size_type').agg('count')\n",
    "df4_2 = df4_2.reset_index()\n",
    "df4_2 = df4_2.rename(columns={\"cid\": \"count\"})\n",
    "\n",
    "df4 = df4_1.set_index('size_type').join(df4_2.set_index('size_type'))\n",
    "df4 = df4.reset_index()\n",
    "\n",
    "cat_size_order = CategoricalDtype(\n",
    "    ['<1KB', '1~4KB', '4~64KB', '64KB~256KB', '256KB~1MB', '1MB~16MB', '>16MB'], \n",
    "    ordered=True\n",
    ")\n",
    "df4['size_type'] = df4['size_type'].astype(cat_size_order)\n",
    "df4 = df4.sort_values('size_type')\n",
    "df4.head()"
   ]
  },
  {
   "cell_type": "code",
   "execution_count": null,
   "id": "0016cde4",
   "metadata": {},
   "outputs": [],
   "source": [
    "# create subplots: use 'domain' type for Pie subplot\n",
    "fig = make_subplots(rows=1, cols=2, specs=[[{'type':'domain'}, {'type':'domain'}]])\n",
    "\n",
    "fig.add_trace(go.Pie(\n",
    "        labels=df4['size_type'],\n",
    "        values=df4['size'],\n",
    "        sort=False),1,2\n",
    "    )\n",
    "fig.add_trace(go.Pie(\n",
    "        labels=df4['size_type'],\n",
    "        values=df4['count'],\n",
    "        sort=False),1,1\n",
    "    )\n",
    "\n",
    "\n",
    "# use `hole` to create a donut-like pie chart\n",
    "fig.update_traces(hole=.4, hoverinfo=\"label+percent+name\")\n",
    "\n",
    "fig.update_layout(\n",
    "    title_text=\"Number of requests and traffic in each size range\",\n",
    "    # add annotations in the center of the donut pies.\n",
    "    annotations=[dict(text='Request', x=0.16, y=0.5, font_size=20, showarrow=False),\n",
    "                 dict(text='Traffic', x=0.82, y=0.5, font_size=20, showarrow=False)])\n",
    "\n",
    "fig.show()"
   ]
  }
 ],
 "metadata": {
  "kernelspec": {
   "display_name": "Python 3 (ipykernel)",
   "language": "python",
   "name": "python3"
  },
  "language_info": {
   "codemirror_mode": {
    "name": "ipython",
    "version": 3
   },
   "file_extension": ".py",
   "mimetype": "text/x-python",
   "name": "python",
   "nbconvert_exporter": "python",
   "pygments_lexer": "ipython3",
   "version": "3.9.6"
  },
  "toc": {
   "base_numbering": 1,
   "nav_menu": {},
   "number_sections": true,
   "sideBar": true,
   "skip_h1_title": false,
   "title_cell": "Table of Contents",
   "title_sidebar": "Contents",
   "toc_cell": false,
   "toc_position": {},
   "toc_section_display": true,
   "toc_window_display": false
  }
 },
 "nbformat": 4,
 "nbformat_minor": 5
}
