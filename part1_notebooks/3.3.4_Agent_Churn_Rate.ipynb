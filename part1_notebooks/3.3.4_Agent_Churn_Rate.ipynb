{
 "cells": [
  {
   "cell_type": "code",
   "execution_count": null,
   "id": "8168b8db",
   "metadata": {},
   "outputs": [],
   "source": [
    "import pandas as pd\n",
    "import numpy as np\n",
    "from scipy import stats\n",
    "import plotly.express as px\n",
    "import plotly.graph_objects as go\n",
    "from plotly.subplots import make_subplots\n",
    "from tqdm.notebook import tqdm\n",
    "import re\n",
    "pd.set_option('max_columns', None)\n",
    "pd.options.display.max_colwidth = 100"
   ]
  },
  {
   "cell_type": "code",
   "execution_count": null,
   "id": "541548eb",
   "metadata": {},
   "outputs": [],
   "source": [
    "df_groupby_user = pd.read_csv('data_groupby_user.csv', index_col=0)\n",
    "df_groupby_user.shape"
   ]
  },
  {
   "cell_type": "code",
   "execution_count": null,
   "id": "ffe1e4c7",
   "metadata": {},
   "outputs": [],
   "source": [
    "df = pd.read_csv('data.csv', index_col=0)\n",
    "df.shape"
   ]
  },
  {
   "cell_type": "markdown",
   "id": "8065ed03",
   "metadata": {},
   "source": [
    "In this notebook we analyze agent churn from different perspectives."
   ]
  },
  {
   "cell_type": "markdown",
   "id": "f9c6a376",
   "metadata": {},
   "source": [
    "# Calculate user activity"
   ]
  },
  {
   "cell_type": "code",
   "execution_count": null,
   "id": "8fc7db99",
   "metadata": {},
   "outputs": [],
   "source": [
    "# keep only interested columns\n",
    "df2 = df[['agent','bytes_returned']].copy()\n",
    "# convert to datetime\n",
    "df2['datetime'] = pd.to_datetime(df['timestamp'])\n",
    "df2 = df2.set_index('datetime')\n",
    "df2.head()"
   ]
  },
  {
   "cell_type": "code",
   "execution_count": null,
   "id": "8516e810",
   "metadata": {},
   "outputs": [],
   "source": [
    "# groupby agent and downsample into 1 hour bins\n",
    "df2 = df2.groupby('agent').resample('60T').count()\n",
    "df2 = df2.drop(columns=['agent'])\n",
    "df2 = df2.reset_index()\n",
    "df2 = df2.rename(columns={\"datetime\": \"timestamp\",\"bytes_returned\": \"request_count\"})\n",
    "# remove data from 01-03\n",
    "df2 = df2[df2['timestamp'].dt.day==2]\n",
    "# get hour from datetime\n",
    "df2['hour'] = df2['timestamp'].dt.hour\n",
    "df2 = df2.drop(['timestamp'], axis=1)\n",
    "df2.shape"
   ]
  },
  {
   "cell_type": "code",
   "execution_count": null,
   "id": "2304a0db",
   "metadata": {},
   "outputs": [],
   "source": [
    "df2.head()"
   ]
  },
  {
   "cell_type": "code",
   "execution_count": null,
   "id": "f72b2eef",
   "metadata": {},
   "outputs": [],
   "source": [
    "# pivot dataframe\n",
    "df3 = df2.pivot(index='agent', columns='hour', values='request_count')\n",
    "# fill NaN and change type to int\n",
    "df3 = df3.fillna(0)\n",
    "df3 = df3.astype(int)\n",
    "df3.shape"
   ]
  },
  {
   "cell_type": "code",
   "execution_count": null,
   "id": "533bbeec",
   "metadata": {},
   "outputs": [],
   "source": [
    "df3.head()"
   ]
  },
  {
   "cell_type": "code",
   "execution_count": null,
   "id": "858a6ce4",
   "metadata": {},
   "outputs": [],
   "source": [
    "df3.to_csv('data_user_activity.csv') # 4.5MB"
   ]
  },
  {
   "cell_type": "markdown",
   "id": "f5c54322",
   "metadata": {},
   "source": [
    "# Request heatmap"
   ]
  },
  {
   "cell_type": "markdown",
   "id": "16c2d140",
   "metadata": {},
   "source": [
    "We draw a heatmap of the number of requests made by each agent in each hour. The x axis represents the agents, sorted in the order that they first appeared in the dataset. The y axis represents the hours of the day. The color of each cell in the heatmap indicates the number (in natural logarithmic scale) of requests made by a specific agent during a specific hour."
   ]
  },
  {
   "cell_type": "code",
   "execution_count": null,
   "id": "6d485171",
   "metadata": {},
   "outputs": [],
   "source": [
    "df4 = pd.read_csv('data_user_activity.csv', index_col=0)\n",
    "df4.shape"
   ]
  },
  {
   "cell_type": "code",
   "execution_count": null,
   "id": "919d13f6",
   "metadata": {},
   "outputs": [],
   "source": [
    "# sort by the order users first appear in the data\n",
    "df_agent = pd.DataFrame(df['agent'].unique())\n",
    "df_agent.columns = ['agent']\n",
    "df4 = df4.reindex(index=df_agent['agent'])\n",
    "df4 = df4.reset_index()\n",
    "# drop users with no request in the day\n",
    "df4 = df4[~df4.isna().any(axis=1)]\n",
    "# convert to int\n",
    "df4 = df4.set_index('agent')\n",
    "df4 = df4.astype(int)\n",
    "df4 = df4.reset_index()\n",
    "df4.shape"
   ]
  },
  {
   "cell_type": "code",
   "execution_count": null,
   "id": "48f3c89a",
   "metadata": {},
   "outputs": [],
   "source": [
    "df4.set_index('agent',inplace=True)\n",
    "# df4[df4 > 1] = 1\n",
    "df4 = np.log(df4)\n",
    "df4 = df4.replace(float('-inf'), 0)\n",
    "df4 = df4.reset_index()\n",
    "\n",
    "df4 = df4.reset_index()\n",
    "df4['index'] = df4['index']/df4.shape[0]\n",
    "df4 = df4.set_index('index')\n",
    "\n",
    "df4.head()"
   ]
  },
  {
   "cell_type": "code",
   "execution_count": null,
   "id": "efcddd00",
   "metadata": {},
   "outputs": [],
   "source": [
    "data = df4.drop(['agent'],axis=1)\n",
    "data = data.T\n",
    "\n",
    "fig = px.imshow(data, color_continuous_scale='turbo', origin='lower',\n",
    "               labels=dict(color=\"number of request<br>an agent made per hour<br>(log scale)\"),)\n",
    "\n",
    "fig.update_xaxes(side='bottom')\n",
    "fig.update_xaxes(title=\"agent (sorted by first occurrence)\", tickformat = ',.0%')\n",
    "fig.update_yaxes(title=\"hour\")\n",
    "\n",
    "fig.show()"
   ]
  },
  {
   "cell_type": "markdown",
   "id": "34da75db",
   "metadata": {},
   "source": [
    "# Churn rate"
   ]
  },
  {
   "cell_type": "markdown",
   "id": "586635a0",
   "metadata": {},
   "source": [
    "Next, we look into the percentage of users who stay in the network after a specific time period."
   ]
  },
  {
   "cell_type": "code",
   "execution_count": null,
   "id": "efcf972a",
   "metadata": {},
   "outputs": [],
   "source": [
    "# keep only interested columns\n",
    "df3 = df[['agent']].copy()\n",
    "# convert to datetime\n",
    "df3['datetime'] = pd.to_datetime(df['timestamp'])\n",
    "df3.head()"
   ]
  },
  {
   "cell_type": "code",
   "execution_count": null,
   "id": "1f3a8011",
   "metadata": {},
   "outputs": [],
   "source": [
    "df4 = df3.groupby('agent').agg(['min', 'max', 'count'])\n",
    "df4.columns = df4.columns.get_level_values(1)\n",
    "df4[df4['count']==1].sum()"
   ]
  },
  {
   "cell_type": "code",
   "execution_count": null,
   "id": "cea61033",
   "metadata": {},
   "outputs": [],
   "source": [
    "df4['last'] = df4['max'] - df4['min']\n",
    "df4['minute'] = df4['last'].dt.seconds/60\n",
    "df4['minute'] = df4['minute'].astype(int)\n",
    "df4 = df4.drop(['min','max','last','count'],axis=1)\n",
    "df4.reset_index()\n",
    "df4.head()"
   ]
  },
  {
   "cell_type": "code",
   "execution_count": null,
   "id": "bbfe8654",
   "metadata": {},
   "outputs": [],
   "source": [
    "df5 = pd.DataFrame(df4.value_counts(ascending=False))\n",
    "df5 = df5.reset_index()\n",
    "df5.columns = ['minute','count']\n",
    "df5.head()"
   ]
  },
  {
   "cell_type": "code",
   "execution_count": null,
   "id": "660c3d36",
   "metadata": {},
   "outputs": [],
   "source": [
    "df4.shape"
   ]
  },
  {
   "cell_type": "code",
   "execution_count": null,
   "id": "bd545e29",
   "metadata": {},
   "outputs": [],
   "source": [
    "df6 = pd.DataFrame(columns = ['stay_after_minute', 'count', 'name', 'hour'])\n",
    "\n",
    "def addRow(df6, m, name):\n",
    "    c = df5[df5['minute'] >= m].sum()['count']\n",
    "    df6 = df6.append({'stay_after_minute' : m, 'count' : c, 'name':name, 'hour':m/60},\n",
    "        ignore_index = True)\n",
    "    return df6"
   ]
  },
  {
   "cell_type": "code",
   "execution_count": null,
   "id": "fd5b0531",
   "metadata": {},
   "outputs": [],
   "source": [
    "df6 = addRow(df6, 1, \"1m\")\n",
    "df6 = addRow(df6, 2, \"2m\")\n",
    "df6 = addRow(df6, 4, \"4m\")\n",
    "df6 = addRow(df6, 8, \"8m\")\n",
    "df6 = addRow(df6, 16, \"16m\")\n",
    "df6 = addRow(df6, 60, \"1h\")\n",
    "df6 = addRow(df6, 120, \"2h\")\n",
    "df6 = addRow(df6, 240, \"4h\")\n",
    "df6 = addRow(df6, 480, \"8h\")\n",
    "df6 = addRow(df6, 960, \"16h\")\n",
    "df6 = addRow(df6, 1439, \"24h\")"
   ]
  },
  {
   "cell_type": "code",
   "execution_count": null,
   "id": "6d65ffc1",
   "metadata": {},
   "outputs": [],
   "source": [
    "df6['percentage'] = df6['count']/21985\n",
    "# df6['stay_after_minute'] = df6['stay_after_minute'].astype(str)"
   ]
  },
  {
   "cell_type": "code",
   "execution_count": null,
   "id": "61c89267",
   "metadata": {},
   "outputs": [],
   "source": [
    "df6.head()"
   ]
  },
  {
   "cell_type": "code",
   "execution_count": null,
   "id": "210aca89",
   "metadata": {},
   "outputs": [],
   "source": [
    "fig = px.line(df6, x='hour', y='percentage', \n",
    "             text = [str(x[0])+' {0:1.2f}%'.format(x[1]*100) for x in zip(df6['name'],df6['percentage'])])\n",
    "\n",
    "fig.update_traces(textposition=\"middle right\")\n",
    "\n",
    "fig.update_xaxes(title='duration since agent made first request (hour)')\n",
    "fig.update_yaxes(title='percentage of agent stays online', tickformat=',.0%')\n",
    "\n",
    "fig.show()"
   ]
  },
  {
   "cell_type": "markdown",
   "id": "f847420a",
   "metadata": {},
   "source": [
    "# Users leave in 1 min"
   ]
  },
  {
   "cell_type": "markdown",
   "id": "791620ab",
   "metadata": {},
   "source": [
    "Next, we only keep the users who disconnect from the network within a minute and count the number of requests they made."
   ]
  },
  {
   "cell_type": "code",
   "execution_count": null,
   "id": "9e896844",
   "metadata": {},
   "outputs": [],
   "source": [
    "df4.head()"
   ]
  },
  {
   "cell_type": "code",
   "execution_count": null,
   "id": "822bc908",
   "metadata": {},
   "outputs": [],
   "source": [
    "df9 = df4[df4['minute']<1]\n",
    "df9.shape"
   ]
  },
  {
   "cell_type": "code",
   "execution_count": null,
   "id": "4d1365c1",
   "metadata": {},
   "outputs": [],
   "source": [
    "df9 = df9.reset_index()\n",
    "agent_set = df9['agent'].unique()"
   ]
  },
  {
   "cell_type": "code",
   "execution_count": null,
   "id": "90675d20",
   "metadata": {},
   "outputs": [],
   "source": [
    "df10 = df[df['agent'].isin(agent_set)]\n",
    "df10.shape"
   ]
  },
  {
   "cell_type": "code",
   "execution_count": null,
   "id": "85930a81",
   "metadata": {},
   "outputs": [],
   "source": [
    "df.shape"
   ]
  },
  {
   "cell_type": "code",
   "execution_count": null,
   "id": "99295104",
   "metadata": {},
   "outputs": [],
   "source": [
    "df10.head()"
   ]
  },
  {
   "cell_type": "code",
   "execution_count": null,
   "id": "566abe32",
   "metadata": {},
   "outputs": [],
   "source": [
    "df11_1 = df10[['agent','cid']].groupby('agent').agg(['count',pd.Series.nunique])\n",
    "df11_1.columns = df11_1.columns.get_level_values(1)\n",
    "df11_2 = df10[['agent','bytes_returned']].groupby('agent').agg('mean')\n",
    "df11 = df11_1.join(df11_2, lsuffix='agent', rsuffix='agent')\n",
    "df11['bytes_returned'] = df11['bytes_returned']/1024\n",
    "df11 = df11.rename(columns={\"count\": \"cid_count\", \"nunique\": \"cid_unique\", \"bytes_returned\": \"KB_returned_mean\"})\n",
    "df11.head()"
   ]
  },
  {
   "cell_type": "code",
   "execution_count": null,
   "id": "0b93225a",
   "metadata": {},
   "outputs": [],
   "source": [
    "df11.describe()"
   ]
  },
  {
   "cell_type": "code",
   "execution_count": null,
   "id": "bb90be63",
   "metadata": {},
   "outputs": [],
   "source": [
    "df11 = df11.sort_values(by=['cid_count','cid_unique'], ascending=False)\n",
    "df11 = df11.reset_index()\n",
    "df11 = df11.reset_index()\n",
    "df11.head()"
   ]
  },
  {
   "cell_type": "code",
   "execution_count": null,
   "id": "c32662cb",
   "metadata": {},
   "outputs": [],
   "source": [
    "df12 = pd.DataFrame(columns = ['request', 'count'])\n",
    "\n",
    "def addRow(df12, l, r):\n",
    "    df_temp = df11[(df11['cid_count'] >= l) & (df11['cid_count'] < r)]\n",
    "    c = df_temp.count()[0]\n",
    "    df12 = df12.append({'request':'['+str(l)+','+str(r)+')', 'count':c}, ignore_index = True)\n",
    "    return df12\n",
    "\n",
    "df12 = addRow(df12, 1, 2)\n",
    "df12 = addRow(df12, 2, 10)\n",
    "df12 = addRow(df12, 10, 100)\n",
    "df12 = addRow(df12, 100, 1000)\n",
    "df12 = addRow(df12, 1000, 10000)\n",
    "\n",
    "df12 = df12.replace('[1,2)', '1')\n",
    "df12 = df12.replace('[1000,10000)', '[1000,+∞)')\n",
    "\n",
    "total = df12['count'].sum()\n",
    "df12['percentage'] = df12['count']/total\n",
    "df12"
   ]
  },
  {
   "cell_type": "code",
   "execution_count": null,
   "id": "5e8a0408",
   "metadata": {},
   "outputs": [],
   "source": [
    "fig = px.bar(df12, x='request', y='count', text=[str(x[0])+'\\n{0:1.2f}%'.format(x[1]*100) for x in zip(df12['count'],df12['percentage'])])\n",
    "\n",
    "fig.update_xaxes(title='Range of request count per agent (left within a minute)')\n",
    "fig.update_yaxes(title='agent count')\n",
    "                                                                 \n",
    "fig.show()"
   ]
  }
 ],
 "metadata": {
  "kernelspec": {
   "display_name": "Python 3 (ipykernel)",
   "language": "python",
   "name": "python3"
  },
  "language_info": {
   "codemirror_mode": {
    "name": "ipython",
    "version": 3
   },
   "file_extension": ".py",
   "mimetype": "text/x-python",
   "name": "python",
   "nbconvert_exporter": "python",
   "pygments_lexer": "ipython3",
   "version": "3.9.6"
  },
  "toc": {
   "base_numbering": 1,
   "nav_menu": {},
   "number_sections": true,
   "sideBar": true,
   "skip_h1_title": false,
   "title_cell": "Table of Contents",
   "title_sidebar": "Contents",
   "toc_cell": false,
   "toc_position": {},
   "toc_section_display": true,
   "toc_window_display": false
  }
 },
 "nbformat": 4,
 "nbformat_minor": 5
}
