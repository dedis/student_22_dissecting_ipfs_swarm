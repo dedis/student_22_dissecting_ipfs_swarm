{
 "cells": [
  {
   "cell_type": "code",
   "execution_count": null,
   "id": "d3f054d5",
   "metadata": {},
   "outputs": [],
   "source": [
    "import pandas as pd\n",
    "import numpy as np\n",
    "from scipy import stats\n",
    "import plotly.express as px\n",
    "import plotly.graph_objects as go\n",
    "from plotly.subplots import make_subplots\n",
    "pd.set_option('max_columns', None)"
   ]
  },
  {
   "cell_type": "code",
   "execution_count": null,
   "id": "5fbc2dcd",
   "metadata": {},
   "outputs": [],
   "source": [
    "df = pd.read_csv('data.csv', index_col=0)\n",
    "df.shape"
   ]
  },
  {
   "cell_type": "markdown",
   "id": "3d931201",
   "metadata": {},
   "source": [
    "In this notebook, we aim to understand how the total number of requests, size, and traffic change over the course of a day. By analyzing this data, we can identify patterns and trends in usage of the network."
   ]
  },
  {
   "cell_type": "markdown",
   "id": "47b39feb",
   "metadata": {},
   "source": [
    "# Average request size"
   ]
  },
  {
   "cell_type": "code",
   "execution_count": null,
   "id": "5a1791b3",
   "metadata": {},
   "outputs": [],
   "source": [
    "# create time series array\n",
    "idx = pd.to_datetime(df['timestamp'])\n",
    "arr = df['bytes_returned'].astype(int).array\n",
    "s = pd.Series(arr, index=idx)\n",
    "# downsample into 1 minute bins\n",
    "s = s.resample('1T').mean()\n",
    "\n",
    "# create dataframe\n",
    "df1 = pd.DataFrame(s)\n",
    "df1 = df1.reset_index()\n",
    "df1 = df1.rename(columns={0: 'request_size'})\n",
    "df1['request_size'] = df1['request_size']/pow(1024,2)\n",
    "df1.head()"
   ]
  },
  {
   "cell_type": "code",
   "execution_count": null,
   "id": "080b593b",
   "metadata": {},
   "outputs": [],
   "source": [
    "fig = px.line(df1, x='timestamp', y=\"request_size\", title='Average request size of the day (1 minute bin)')\n",
    "\n",
    "average = df['bytes_returned'].mean()/pow(1024,2)\n",
    "fig.add_hline(y=average, line_width=1, line_dash=\"dash\", line_color=\"grey\", \n",
    "              annotation_text=\"mean<br>{0:.1f}\".format(average), \n",
    "              annotation_position=\"right\")\n",
    "\n",
    "fig.update_xaxes(title=\"time\")\n",
    "fig.update_yaxes(title=\"average request size in MB\")\n",
    "\n",
    "fig.show()"
   ]
  },
  {
   "cell_type": "markdown",
   "id": "e5c1f1f2",
   "metadata": {},
   "source": [
    "# Number of requests"
   ]
  },
  {
   "cell_type": "code",
   "execution_count": null,
   "id": "1091fbda",
   "metadata": {},
   "outputs": [],
   "source": [
    "# create time series array\n",
    "idx = pd.to_datetime(df['timestamp'])\n",
    "arr = df['bytes_returned'].astype(int).array\n",
    "s = pd.Series(arr, index=idx)\n",
    "# downsample into 1 minute bins\n",
    "s = s.resample('1T').count()\n",
    "\n",
    "# create dataframe\n",
    "df2 = pd.DataFrame(s)\n",
    "df2 = df2.reset_index()\n",
    "df2 = df2.rename(columns={0: 'request_count'})\n",
    "df2.head()"
   ]
  },
  {
   "cell_type": "code",
   "execution_count": null,
   "id": "a2e8dea5",
   "metadata": {},
   "outputs": [],
   "source": [
    "df['bytes_returned'].count()"
   ]
  },
  {
   "cell_type": "code",
   "execution_count": null,
   "id": "0c2d50f3",
   "metadata": {},
   "outputs": [],
   "source": [
    "fig = px.line(df2, x='timestamp', y=\"request_count\", title='Request count of the day (1 minute bin)')\n",
    "\n",
    "average = df2['request_count'].mean()\n",
    "fig.add_hline(y=average, line_width=1, line_dash=\"dash\", line_color=\"grey\", \n",
    "              annotation_text=\"mean<br>{0:.1f}\".format(average), \n",
    "              annotation_position=\"right\")\n",
    "\n",
    "fig.update_xaxes(title=\"time\")\n",
    "fig.update_yaxes(title=\"number of requests\")\n",
    "\n",
    "fig.show()"
   ]
  },
  {
   "cell_type": "markdown",
   "id": "02d598b7",
   "metadata": {},
   "source": [
    "# Traffic"
   ]
  },
  {
   "cell_type": "code",
   "execution_count": null,
   "id": "b9228484",
   "metadata": {},
   "outputs": [],
   "source": [
    "# create time series array\n",
    "idx = pd.to_datetime(df['timestamp'])\n",
    "arr = df['bytes_returned'].astype(int).array\n",
    "s = pd.Series(arr, index=idx)\n",
    "# downsample into 1 minute bins\n",
    "s = s.resample('1T').sum()\n",
    "\n",
    "# create dataframe\n",
    "df3 = pd.DataFrame(s)\n",
    "df3 = df3.reset_index()\n",
    "df3 = df3.rename(columns={0: 'request_size'})\n",
    "# request size in GB\n",
    "df3['request_size'] = df3['request_size']/pow(1024,3)\n",
    "\n",
    "# calculate cumulative sum\n",
    "df3['request_size_cumulative'] = df3['request_size'].cumsum()\n",
    "df3['request_size_cumulative'] = df3['request_size_cumulative']/1024\n",
    "# calculate percentage\n",
    "total = df3.iloc[-1]['request_size_cumulative']\n",
    "df3['percentage'] = df3['request_size_cumulative'] / total\n",
    "df3.head()"
   ]
  },
  {
   "cell_type": "code",
   "execution_count": null,
   "id": "339280ff",
   "metadata": {},
   "outputs": [],
   "source": [
    "fig = px.line(df3, x='timestamp', y=\"request_size\", title='Traffic of the day (1 minute bin)')\n",
    "\n",
    "average = df3['request_size'].mean()\n",
    "fig.add_hline(y=average, line_width=1, line_dash=\"dash\", line_color=\"grey\", \n",
    "              annotation_text=\"mean<br>{0:.2f}\".format(average), \n",
    "              annotation_position=\"right\")\n",
    "\n",
    "fig.update_xaxes(title=\"time\")\n",
    "fig.update_yaxes(title=\"Traffic in GB\")\n",
    "\n",
    "fig.show()"
   ]
  },
  {
   "cell_type": "code",
   "execution_count": null,
   "id": "0109dbda",
   "metadata": {},
   "outputs": [],
   "source": [
    "fig = px.line(df3, x='timestamp', y=\"request_size_cumulative\", title='Cumulative traffic of the day')\n",
    "\n",
    "fig.update_xaxes(title=\"time\")\n",
    "fig.update_yaxes(title=\"cumulative traffic in TB\")\n",
    "\n",
    "fig.show()"
   ]
  }
 ],
 "metadata": {
  "kernelspec": {
   "display_name": "Python 3 (ipykernel)",
   "language": "python",
   "name": "python3"
  },
  "language_info": {
   "codemirror_mode": {
    "name": "ipython",
    "version": 3
   },
   "file_extension": ".py",
   "mimetype": "text/x-python",
   "name": "python",
   "nbconvert_exporter": "python",
   "pygments_lexer": "ipython3",
   "version": "3.9.6"
  },
  "toc": {
   "base_numbering": 1,
   "nav_menu": {},
   "number_sections": true,
   "sideBar": true,
   "skip_h1_title": false,
   "title_cell": "Table of Contents",
   "title_sidebar": "Contents",
   "toc_cell": false,
   "toc_position": {},
   "toc_section_display": true,
   "toc_window_display": false
  }
 },
 "nbformat": 4,
 "nbformat_minor": 5
}
