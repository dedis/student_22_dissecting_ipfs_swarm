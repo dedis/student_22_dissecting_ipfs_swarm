{
 "cells": [
  {
   "cell_type": "code",
   "execution_count": null,
   "id": "c35f9152",
   "metadata": {},
   "outputs": [],
   "source": [
    "import pandas as pd\n",
    "import numpy as np\n",
    "from scipy import stats\n",
    "import plotly.express as px\n",
    "import plotly.graph_objects as go\n",
    "from plotly.subplots import make_subplots \n",
    "from tqdm.notebook import tqdm\n",
    "import re \n",
    "pd.set_option('max_columns', None)\n",
    "pd.options.display.max_colwidth = 100"
   ]
  },
  {
   "cell_type": "code",
   "execution_count": null,
   "id": "d9dc4cff",
   "metadata": {},
   "outputs": [],
   "source": [
    "df = pd.read_csv('data.csv', index_col=0)\n",
    "df.shape"
   ]
  },
  {
   "cell_type": "markdown",
   "id": "aae262bd",
   "metadata": {},
   "source": [
    "We will begin by tallying the number of requests for each unique CID and group them by this count. From there, we can calculate the size of the files within each group, allowing us to understand the distribution of file sizes for the most requested content."
   ]
  },
  {
   "cell_type": "markdown",
   "id": "9228848c",
   "metadata": {},
   "source": [
    "# Request time"
   ]
  },
  {
   "cell_type": "code",
   "execution_count": null,
   "id": "de249b21",
   "metadata": {},
   "outputs": [],
   "source": [
    "df1 = df[['cid','bytes_returned']].groupby('cid').agg(['count','mean'])\n",
    "df1.columns = df1.columns.get_level_values(1)\n",
    "df1 = df1.reset_index()\n",
    "df1['mean'] = df1['mean'].astype(int)\n",
    "df1 = df1.rename(columns={\"mean\": \"size\"})\n",
    "df1 = df1.sort_values(by=['size'])\n",
    "df1.head()"
   ]
  },
  {
   "cell_type": "code",
   "execution_count": null,
   "id": "136f1b08",
   "metadata": {},
   "outputs": [],
   "source": [
    "df2 = pd.DataFrame(df1['count'].value_counts())\n",
    "df2 = df2.reset_index()\n",
    "df2 = df2.rename(columns={\"index\": \"request_time\"})\n",
    "df2 = df2.sort_values(by=['request_time'])\n",
    "df2.head()"
   ]
  },
  {
   "cell_type": "code",
   "execution_count": null,
   "id": "646aa8a4",
   "metadata": {},
   "outputs": [],
   "source": [
    "df3 = pd.DataFrame(columns = ['request_time', 'count'])\n",
    "\n",
    "def addRow(df3, l, r):\n",
    "    df_temp = df1[(df1['count'] >= l) & (df1['count'] < r)]\n",
    "    c = df_temp.count()[0]\n",
    "    df3 = df3.append({'request_time':'['+str(l)+','+str(r)+')', 'count':c}, ignore_index = True)\n",
    "    return df3\n",
    "\n",
    "df3 = addRow(df3, 1, 2)\n",
    "df3 = addRow(df3, 2, 10)\n",
    "df3 = addRow(df3, 10, 100)\n",
    "df3 = addRow(df3, 100, 1000)\n",
    "df3 = addRow(df3, 1000, 10000)\n",
    "df3 = addRow(df3, 10000, 100000)\n",
    "\n",
    "df3 = df3.replace('[1,2)', '1')\n",
    "df3 = df3.replace('[10000,100000)', '[10000,+∞)')\n",
    "\n",
    "total = df3['count'].sum()\n",
    "df3['percentage'] = df3['count']/total\n",
    "df3.head()"
   ]
  },
  {
   "cell_type": "code",
   "execution_count": null,
   "id": "aae638eb",
   "metadata": {},
   "outputs": [],
   "source": [
    "fig = px.bar(df3, x='request_time', y='count', text=[str(x[0])+'\\n{0:1.2f}%'.format(x[1]*100) for x in zip(df3['count'],df3['percentage'])])\n",
    "\n",
    "fig.update_xaxes(title='range of times each cid is requested')\n",
    "fig.update_yaxes(title='cid count')\n",
    "                                                                 \n",
    "fig.show()"
   ]
  },
  {
   "cell_type": "code",
   "execution_count": null,
   "id": "b367e949",
   "metadata": {},
   "outputs": [],
   "source": [
    "df5 = df1.copy()\n",
    "\n",
    "df5['type'] = ''\n",
    "\n",
    "def addType(l, r):\n",
    "    df5.loc[(df5['count'] >= l) & (df5['count'] < r), 'type'] = '['+str(l)+','+str(r)+')'\n",
    "\n",
    "df5.loc[df5['count'] == 1, 'type'] = '1'\n",
    "addType(2, 10)\n",
    "addType(10, 100)\n",
    "addType(100, 1000)\n",
    "addType(1000, 10000)\n",
    "df5.loc[df5['count'] > 10000, 'type'] = '[10000,+∞)'\n",
    "\n",
    "df5.head()"
   ]
  },
  {
   "cell_type": "code",
   "execution_count": null,
   "id": "6d752ac7",
   "metadata": {},
   "outputs": [],
   "source": [
    "def q1(x):\n",
    "    return x.quantile(0.01)\n",
    "\n",
    "def q10(x):\n",
    "    return x.quantile(0.1)\n",
    "\n",
    "def q90(x):\n",
    "    return x.quantile(0.9)\n",
    "\n",
    "def q99(x):\n",
    "    return x.quantile(0.99)\n",
    "\n",
    "\n",
    "df6 = df5[['type','size']].groupby('type').agg(['min',q1,q10,'median',q90,q99,'max'])\n",
    "df6_MB = df6/pow(1024,2)\n",
    "df6_MB"
   ]
  },
  {
   "cell_type": "code",
   "execution_count": null,
   "id": "14d5a0bf",
   "metadata": {},
   "outputs": [],
   "source": [
    "data = df5[['type','size']]\n",
    "data['size'] = data['size']/1024\n",
    "\n",
    "fig = px.box(data, x=\"type\", y=\"size\", log_y=True)\n",
    "fig.update_xaxes(title='range of times each cid is requested')\n",
    "fig.update_yaxes(title='file size in KB (log scale)')\n",
    "fig.show()"
   ]
  }
 ],
 "metadata": {
  "kernelspec": {
   "display_name": "Python 3 (ipykernel)",
   "language": "python",
   "name": "python3"
  },
  "language_info": {
   "codemirror_mode": {
    "name": "ipython",
    "version": 3
   },
   "file_extension": ".py",
   "mimetype": "text/x-python",
   "name": "python",
   "nbconvert_exporter": "python",
   "pygments_lexer": "ipython3",
   "version": "3.9.6"
  },
  "toc": {
   "base_numbering": 1,
   "nav_menu": {},
   "number_sections": true,
   "sideBar": true,
   "skip_h1_title": false,
   "title_cell": "Table of Contents",
   "title_sidebar": "Contents",
   "toc_cell": false,
   "toc_position": {},
   "toc_section_display": true,
   "toc_window_display": false
  }
 },
 "nbformat": 4,
 "nbformat_minor": 5
}
