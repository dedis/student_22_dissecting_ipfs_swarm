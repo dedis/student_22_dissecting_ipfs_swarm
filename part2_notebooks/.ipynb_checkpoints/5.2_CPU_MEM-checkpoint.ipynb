{
 "cells": [
  {
   "cell_type": "markdown",
   "id": "3c31773c",
   "metadata": {},
   "source": [
    "In this notebook, we will process data on CPU and Memory usage obtained from monitoring the nodes."
   ]
  },
  {
   "cell_type": "code",
   "execution_count": null,
   "id": "fd4a70a0",
   "metadata": {},
   "outputs": [],
   "source": [
    "import pandas as pd\n",
    "import numpy as np\n",
    "import plotly.express as px\n",
    "import plotly.graph_objects as go\n",
    "pd.set_option('max_columns', None)"
   ]
  },
  {
   "cell_type": "code",
   "execution_count": null,
   "id": "2c41892e",
   "metadata": {},
   "outputs": [],
   "source": [
    "# VIRT: Amount of virtual memory used by the process.\n",
    "# RES: Amount of resident memory used by the process.\n",
    "# SHR: Amount of shared memory used by the process.\n",
    "# %CPU: The share of CPU time used by the process since the last update.\n",
    "# %MEM: The share of physical memory used.\n",
    "    \n",
    "def getDataframeFromTopOutput(df):\n",
    "    df['timestamp'] = pd.to_datetime(df[0].str.strip('['))\n",
    "    df[['VIRT','RES','SHR','CPU','MEM']] = df[1].str.split(' ', expand=True)[[5,6,7,9,10]].astype(float)\n",
    "    df = df.drop([0,1],axis=1)\n",
    "    return df"
   ]
  },
  {
   "cell_type": "code",
   "execution_count": null,
   "id": "c1bd2a57",
   "metadata": {},
   "outputs": [],
   "source": [
    "def getAverageByMinute(df):\n",
    "    df1 = df.copy().drop(['timestamp'],axis=1)\n",
    "    # convert to datetime\n",
    "    df1['datetime'] = pd.to_datetime(df['timestamp'])\n",
    "    df1 = df1.set_index('datetime')\n",
    "    # get average in every minute\n",
    "    df1 = df1.resample('1T').mean()\n",
    "    df1 = df1.reset_index()\n",
    "    df1 = df1.rename(columns={\"datetime\": \"timestamp\"})\n",
    "    return df1"
   ]
  },
  {
   "cell_type": "markdown",
   "id": "4ac99158",
   "metadata": {},
   "source": [
    "1205_top_ipfs.txt:\n",
    "```\n",
    "[2022-12-05 00:00:01] 17286 sixiao 20 0 1502240 185076 45136 S 0.0 1.1 1:09.70 ipfs\n",
    "[2022-12-05 00:00:11] 17286 sixiao 20 0 1502240 185076 45136 S 0.0 1.1 1:10.11 ipfs\n",
    "[2022-12-05 00:00:21] 17286 sixiao 20 0 1502240 185076 45136 S 0.0 1.1 1:10.56 ipfs\n",
    "[2022-12-05 00:00:31] 17286 sixiao 20 0 1502240 185076 45136 S 0.0 1.1 1:10.92 ipfs\n",
    "[2022-12-05 00:00:41] 17286 sixiao 20 0 1502240 185076 45136 S 6.7 1.1 1:11.73 ipfs\n",
    "...\n",
    "```"
   ]
  },
  {
   "cell_type": "code",
   "execution_count": null,
   "id": "5ffb70d1",
   "metadata": {},
   "outputs": [],
   "source": [
    "df1 = pd.read_csv('1205_top_ipfs.txt', sep=']', header=None)\n",
    "df1 = getDataframeFromTopOutput(df1)\n",
    "df1 = getAverageByMinute(df1)\n",
    "df1['node'] = 'ipfs'\n",
    "\n",
    "df1.shape"
   ]
  },
  {
   "cell_type": "code",
   "execution_count": null,
   "id": "b0565a22",
   "metadata": {},
   "outputs": [],
   "source": [
    "df1.describe()"
   ]
  },
  {
   "cell_type": "markdown",
   "id": "7e44327d",
   "metadata": {},
   "source": [
    "1205_top_swarm.txt:\n",
    "```\n",
    "[2022-12-05 00:00:01] 15233 bee 20 0 944920 292548 29608 R 0.0 1.8 0:30.61 bee\n",
    "[2022-12-05 00:00:11] 15233 bee 20 0 944920 292548 29608 S 0.0 1.8 0:30.99 bee\n",
    "[2022-12-05 00:00:21] 15233 bee 20 0 944920 292548 29608 S 13.3 1.8 0:31.38 bee\n",
    "[2022-12-05 00:00:31] 15233 bee 20 0 944920 298980 29672 S 0.0 1.8 0:31.94 bee\n",
    "[2022-12-05 00:00:41] 15233 bee 20 0 944920 305376 29672 S 0.0 1.9 0:32.35 bee\n",
    "...\n",
    "```"
   ]
  },
  {
   "cell_type": "code",
   "execution_count": null,
   "id": "da968ecf",
   "metadata": {},
   "outputs": [],
   "source": [
    "df2 = pd.read_csv('1205_top_swarm.txt', sep=']', header=None)\n",
    "\n",
    "df2 = getDataframeFromTopOutput(df2)\n",
    "df2 = getAverageByMinute(df2)\n",
    "df2['node'] = 'swarm'\n",
    "\n",
    "df2.shape"
   ]
  },
  {
   "cell_type": "code",
   "execution_count": null,
   "id": "e662e947",
   "metadata": {},
   "outputs": [],
   "source": [
    "df2.describe()"
   ]
  },
  {
   "cell_type": "code",
   "execution_count": null,
   "id": "203f157b",
   "metadata": {},
   "outputs": [],
   "source": [
    "df = pd.concat([df1, df2])\n",
    "df.head()"
   ]
  },
  {
   "cell_type": "code",
   "execution_count": null,
   "id": "c3678e4e",
   "metadata": {},
   "outputs": [],
   "source": [
    "fig = px.line(df, x='timestamp', y='CPU', color='node', title='CPU usage')\n",
    "fig.update_yaxes(title=\"percentage of CPU time\")\n",
    "fig.show()"
   ]
  },
  {
   "cell_type": "code",
   "execution_count": null,
   "id": "10d5f9c4",
   "metadata": {},
   "outputs": [],
   "source": [
    "fig = px.line(df, x='timestamp', y='MEM', color='node', title='Memory usage')\n",
    "fig.update_yaxes(title=\"percentage of total memory\")\n",
    "fig.show()"
   ]
  }
 ],
 "metadata": {
  "kernelspec": {
   "display_name": "Python 3 (ipykernel)",
   "language": "python",
   "name": "python3"
  },
  "language_info": {
   "codemirror_mode": {
    "name": "ipython",
    "version": 3
   },
   "file_extension": ".py",
   "mimetype": "text/x-python",
   "name": "python",
   "nbconvert_exporter": "python",
   "pygments_lexer": "ipython3",
   "version": "3.9.6"
  },
  "toc": {
   "base_numbering": 1,
   "nav_menu": {},
   "number_sections": true,
   "sideBar": true,
   "skip_h1_title": false,
   "title_cell": "Table of Contents",
   "title_sidebar": "Contents",
   "toc_cell": false,
   "toc_position": {},
   "toc_section_display": true,
   "toc_window_display": false
  }
 },
 "nbformat": 4,
 "nbformat_minor": 5
}
