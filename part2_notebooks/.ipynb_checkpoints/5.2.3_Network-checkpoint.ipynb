{
 "cells": [
  {
   "cell_type": "markdown",
   "id": "6ae621a1",
   "metadata": {},
   "source": [
    "In this notebook, we will process data on network usage obtained from monitoring the nodes."
   ]
  },
  {
   "cell_type": "code",
   "execution_count": null,
   "id": "e190c259",
   "metadata": {},
   "outputs": [],
   "source": [
    "import pandas as pd\n",
    "import numpy as np\n",
    "import plotly.express as px\n",
    "import plotly.graph_objects as go\n",
    "pd.set_option('max_columns', None)"
   ]
  },
  {
   "cell_type": "code",
   "execution_count": null,
   "id": "7b1ae0fb",
   "metadata": {},
   "outputs": [],
   "source": [
    "def getDataframeFromNethogsOutput(df):\n",
    "    df['timestamp'] = pd.to_datetime(df[0].str.strip('['))\n",
    "    df[['sent','received']] = df[1].str.split(' ', expand=True)[[2,3]].astype(float)\n",
    "    df = df.drop([0,1],axis=1)\n",
    "    return df"
   ]
  },
  {
   "cell_type": "code",
   "execution_count": null,
   "id": "4c6a16aa",
   "metadata": {},
   "outputs": [],
   "source": [
    "def getAverageByMinute(df):\n",
    "    df1 = df.copy().drop(['timestamp'],axis=1)\n",
    "    # convert to datetime\n",
    "    df1['datetime'] = pd.to_datetime(df['timestamp'])\n",
    "    df1 = df1.set_index('datetime')\n",
    "    # get average in every minute\n",
    "    df1 = df1.resample('1T').mean()\n",
    "    df1 = df1.reset_index()\n",
    "    df1 = df1.rename(columns={\"datetime\": \"timestamp\"})\n",
    "    return df1"
   ]
  },
  {
   "cell_type": "markdown",
   "id": "b8695768",
   "metadata": {},
   "source": [
    "1205_nethogs_ipfs.txt:\n",
    "```\n",
    "[2022-12-05 00:00:02] ipfs/17286/1002 0.141797 0.130273\n",
    "[2022-12-05 00:00:12] ipfs/17286/1002 0.113672 0.0820312\n",
    "[2022-12-05 00:00:22] ipfs/17286/1002 0.0632813 0.0375\n",
    "[2022-12-05 00:00:32] ipfs/17286/1002 0.0832031 0.0824219\n",
    "[2022-12-05 00:00:42] ipfs/17286/1002 0.608594 1.49453\n",
    "...\n",
    "```"
   ]
  },
  {
   "cell_type": "code",
   "execution_count": null,
   "id": "a2d4e7ef",
   "metadata": {},
   "outputs": [],
   "source": [
    "df1 = pd.read_csv('1205_nethogs_ipfs.txt', sep=']', header=None)\n",
    "\n",
    "df1 = getDataframeFromNethogsOutput(df1)\n",
    "df1 = getAverageByMinute(df1)\n",
    "df1['node'] = 'ipfs'\n",
    "\n",
    "df1.shape"
   ]
  },
  {
   "cell_type": "code",
   "execution_count": null,
   "id": "02266709",
   "metadata": {},
   "outputs": [],
   "source": [
    "df1.describe()"
   ]
  },
  {
   "cell_type": "markdown",
   "id": "3a700c90",
   "metadata": {},
   "source": [
    "1205_nethogs_swarm.txt:\n",
    "```\n",
    "[2022-12-05 00:00:02] /usr/bin/bee/15233/998 2.22402 1.86152\n",
    "[2022-12-05 00:00:12] /usr/bin/bee/15233/998 2.25742 1.92031\n",
    "[2022-12-05 00:00:22] /usr/bin/bee/15233/998 2.29082 1.9791\n",
    "[2022-12-05 00:00:32] /usr/bin/bee/15233/998 1.96348 2.18848\n",
    "[2022-12-05 00:00:42] /usr/bin/bee/15233/998 2.05859 1.77598\n",
    "...\n",
    "```"
   ]
  },
  {
   "cell_type": "code",
   "execution_count": null,
   "id": "cd82d587",
   "metadata": {},
   "outputs": [],
   "source": [
    "df2 = pd.read_csv('1205_nethogs_swarm.txt', sep=']', header=None)\n",
    "\n",
    "df1 = getDataframeFromNethogsOutput(df2)\n",
    "df2 = getAverageByMinute(df2)\n",
    "df2['node'] = 'swarm'\n",
    "\n",
    "df2.shape"
   ]
  },
  {
   "cell_type": "code",
   "execution_count": null,
   "id": "471228d6",
   "metadata": {},
   "outputs": [],
   "source": [
    "df2.describe()"
   ]
  },
  {
   "cell_type": "code",
   "execution_count": null,
   "id": "099d80ee",
   "metadata": {},
   "outputs": [],
   "source": [
    "df = pd.concat([df1, df2])\n",
    "df = df.fillna(0)\n",
    "df.head()"
   ]
  },
  {
   "cell_type": "code",
   "execution_count": null,
   "id": "831c901c",
   "metadata": {},
   "outputs": [],
   "source": [
    "fig = px.line(df, x='timestamp', y='sent', color='node')\n",
    "fig.update_yaxes(title=\"upload bandwidth (KB/second)\")\n",
    "fig.show()"
   ]
  },
  {
   "cell_type": "code",
   "execution_count": null,
   "id": "dd17554c",
   "metadata": {},
   "outputs": [],
   "source": [
    "fig = px.line(df, x='timestamp', y='received', color='node')\n",
    "fig.update_yaxes(title=\"download bandwidth (KB/second)\")\n",
    "fig.show()"
   ]
  }
 ],
 "metadata": {
  "kernelspec": {
   "display_name": "Python 3 (ipykernel)",
   "language": "python",
   "name": "python3"
  },
  "language_info": {
   "codemirror_mode": {
    "name": "ipython",
    "version": 3
   },
   "file_extension": ".py",
   "mimetype": "text/x-python",
   "name": "python",
   "nbconvert_exporter": "python",
   "pygments_lexer": "ipython3",
   "version": "3.9.6"
  },
  "toc": {
   "base_numbering": 1,
   "nav_menu": {},
   "number_sections": true,
   "sideBar": true,
   "skip_h1_title": false,
   "title_cell": "Table of Contents",
   "title_sidebar": "Contents",
   "toc_cell": false,
   "toc_position": {},
   "toc_section_display": true,
   "toc_window_display": false
  }
 },
 "nbformat": 4,
 "nbformat_minor": 5
}
