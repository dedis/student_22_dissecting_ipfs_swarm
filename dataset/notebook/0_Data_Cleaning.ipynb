{
 "cells": [
  {
   "cell_type": "markdown",
   "id": "fddea976",
   "metadata": {},
   "source": [
    "IPFS Infrastructure Usage Logs (3.22 GB)</br>\n",
    "cid: bafybeiftyvcar3vh7zua3xakxkb2h5ppo4giu5f3rkpsqgcfh7n7axxnsa"
   ]
  },
  {
   "cell_type": "markdown",
   "id": "4add727e",
   "metadata": {},
   "source": [
    "# Read log data"
   ]
  },
  {
   "cell_type": "code",
   "execution_count": null,
   "id": "1af89069",
   "metadata": {},
   "outputs": [],
   "source": [
    "import pandas as pd\n",
    "import re\n",
    "pd.set_option('max_columns', None)\n",
    "pd.options.display.max_colwidth = 100"
   ]
  },
  {
   "cell_type": "code",
   "execution_count": null,
   "id": "2ec60f3c",
   "metadata": {},
   "outputs": [],
   "source": [
    "# read log data\n",
    "path = 'nginx-01-02-2021-bank2-sv15_encrypted.log'\n",
    "file = open(path)\n",
    "lines = file.readlines()"
   ]
  },
  {
   "cell_type": "code",
   "execution_count": null,
   "id": "255e3350",
   "metadata": {},
   "outputs": [],
   "source": [
    "# split by '\"'\n",
    "s = pd.Series(lines)\n",
    "df = s.str.split('\"', expand=True)\n",
    "\n",
    "# remove rows with missing value\n",
    "df['check1'] = df.apply(lambda x: len(x[1].split(' ')), axis=1)\n",
    "df['check2'] = df.apply(lambda x: len(x[2].split(' ')), axis=1)\n",
    "df = df[(df['check1'] == 3) & (df['check2'] == 9)].drop(['check1', 'check2'], axis=1)"
   ]
  },
  {
   "cell_type": "code",
   "execution_count": null,
   "id": "060c724c",
   "metadata": {},
   "outputs": [],
   "source": [
    "# create dataframe\n",
    "df[['encryptedIP','timestamp']] = df[0].str.split(' ', expand=True).drop([1,2,4], axis=1)\n",
    "df['timestamp'] = df['timestamp'].str.strip('[]')\n",
    "\n",
    "df[['method','path','version']] = df[1].str.split(' ', expand=True)\n",
    "\n",
    "df[['response', 'bytes_returned', 'request_length', 'request_time', 'upstream_response_time', 'upstream_header_time', 'cache']] = df[2].str.split(' ', expand=True).drop([0,8], axis=1)\n",
    "df['bytes_returned'] = df['bytes_returned'].astype(int)\n",
    "\n",
    "df[['referrer','agent']] = df[[3,5]]\n",
    "\n",
    "df[['server_name','http_host','http_schema']] = df[6].str.split(' ', expand=True).drop([0], axis=1)\n",
    "df['http_schema'] = df['http_schema'].str.strip('\\n')\n",
    "\n",
    "df = df.drop([0,1,2,3,4,5,6], axis=1)\n",
    "\n",
    "df.shape"
   ]
  },
  {
   "cell_type": "code",
   "execution_count": null,
   "id": "a5f9b8d2",
   "metadata": {},
   "outputs": [],
   "source": [
    "# keep only GET requests\n",
    "df = df[df['method']=='GET']\n",
    "# filter valid agents\n",
    "df = df[df['agent']!='yes']\n",
    "df['check'] = df.apply(lambda x: re.search(\"^[a-zA-Z]\", str(x['agent']))==None, axis=1)\n",
    "df = df[df['check']==False].drop(['check'], axis=1)\n",
    "# exclude path '/'\n",
    "df = df[df['path']!='/']\n",
    "\n",
    "df.shape"
   ]
  },
  {
   "cell_type": "code",
   "execution_count": null,
   "id": "4ca9c7cf",
   "metadata": {},
   "outputs": [],
   "source": [
    "# remove data from 01-03\n",
    "df['datetime'] = pd.to_datetime(df['timestamp'])\n",
    "df = df[df['datetime'].dt.day==2]\n",
    "df = df.drop(['datetime'], axis=1)"
   ]
  },
  {
   "cell_type": "markdown",
   "id": "aa54b23f",
   "metadata": {},
   "source": [
    "# Extract CID"
   ]
  },
  {
   "cell_type": "code",
   "execution_count": null,
   "id": "b6f5bd63",
   "metadata": {},
   "outputs": [],
   "source": [
    "df['cid'] = ''\n",
    "# extract CID from path\n",
    "df['http_host'] = df['http_host'].str.strip(':443')\n",
    "df.loc[df['path'].str.startswith('/ipfs'), 'cid'] = df['path'].str[6:]\n",
    "df.loc[df['http_host'].str.endswith('.ipfs.dweb.link'), 'cid'] = df['http_host'].str[:-15]\n",
    "df['cid'] = df.apply(lambda x: x['cid'].split('/')[0], axis=1)\n",
    "df.head()"
   ]
  },
  {
   "cell_type": "code",
   "execution_count": null,
   "id": "f9136cbb",
   "metadata": {},
   "outputs": [],
   "source": [
    "# remove nan\n",
    "df = df[df['cid'].isna()!=True]\n",
    "# filter valid cid\n",
    "df['check'] = df.apply(lambda x: bool(re.match(\"^[A-Za-z0-9]*$\", str(x['cid']))) and len(str(x['cid']))>20, axis=1)\n",
    "df = df[df['check']==True].drop(['check'], axis=1)\n",
    "df.shape"
   ]
  },
  {
   "cell_type": "code",
   "execution_count": null,
   "id": "79321d03",
   "metadata": {},
   "outputs": [],
   "source": [
    "df = df[['timestamp', 'bytes_returned', 'agent', 'cid']]\n",
    "df.head()"
   ]
  },
  {
   "cell_type": "code",
   "execution_count": null,
   "id": "26a0f92b",
   "metadata": {},
   "outputs": [],
   "source": [
    "df.to_csv('data.csv') # 1.51 GB"
   ]
  },
  {
   "cell_type": "markdown",
   "id": "3a86ffd6",
   "metadata": {},
   "source": [
    "# Group by user"
   ]
  },
  {
   "cell_type": "code",
   "execution_count": null,
   "id": "13eb1475",
   "metadata": {},
   "outputs": [],
   "source": [
    "df = pd.read_csv('data.csv', index_col=0)\n",
    "df.shape"
   ]
  },
  {
   "cell_type": "code",
   "execution_count": null,
   "id": "4edbaafa",
   "metadata": {},
   "outputs": [],
   "source": [
    "df_groupby_user = df[['bytes_returned','agent']].groupby('agent').agg(['sum','count'])\n",
    "df_groupby_user.columns = df_groupby_user.columns.get_level_values(0) + '_' + df_groupby_user.columns.get_level_values(1)\n",
    "df_groupby_user = df_groupby_user.reset_index()\n",
    "df_groupby_user = df_groupby_user.rename(columns={\n",
    "                          \"bytes_returned_sum\": \"request_sum\",\n",
    "                          \"bytes_returned_count\": \"request_count\",\n",
    "                         })\n",
    "df_groupby_user.shape"
   ]
  },
  {
   "cell_type": "code",
   "execution_count": null,
   "id": "c0271e1c",
   "metadata": {},
   "outputs": [],
   "source": [
    "df_groupby_user.head()"
   ]
  },
  {
   "cell_type": "code",
   "execution_count": null,
   "id": "8bef5c1a",
   "metadata": {},
   "outputs": [],
   "source": [
    "df_groupby_user.to_csv('data_groupby_user.csv') # 4 MB"
   ]
  }
 ],
 "metadata": {
  "kernelspec": {
   "display_name": "Python 3 (ipykernel)",
   "language": "python",
   "name": "python3"
  },
  "language_info": {
   "codemirror_mode": {
    "name": "ipython",
    "version": 3
   },
   "file_extension": ".py",
   "mimetype": "text/x-python",
   "name": "python",
   "nbconvert_exporter": "python",
   "pygments_lexer": "ipython3",
   "version": "3.9.6"
  },
  "toc": {
   "base_numbering": 1,
   "nav_menu": {},
   "number_sections": true,
   "sideBar": true,
   "skip_h1_title": false,
   "title_cell": "Table of Contents",
   "title_sidebar": "Contents",
   "toc_cell": false,
   "toc_position": {},
   "toc_section_display": true,
   "toc_window_display": false
  }
 },
 "nbformat": 4,
 "nbformat_minor": 5
}
