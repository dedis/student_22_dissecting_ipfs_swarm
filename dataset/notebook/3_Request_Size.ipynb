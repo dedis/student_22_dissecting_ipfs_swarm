{
 "cells": [
  {
   "cell_type": "code",
   "execution_count": null,
   "id": "cd473144",
   "metadata": {},
   "outputs": [],
   "source": [
    "import pandas as pd\n",
    "import numpy as np\n",
    "from scipy import stats\n",
    "import plotly.express as px\n",
    "import plotly.graph_objects as go\n",
    "from plotly.subplots import make_subplots \n",
    "from tqdm.notebook import tqdm\n",
    "import re \n",
    "pd.set_option('max_columns', None)"
   ]
  },
  {
   "cell_type": "code",
   "execution_count": null,
   "id": "ec2dc016",
   "metadata": {},
   "outputs": [],
   "source": [
    "df = pd.read_csv('data.csv', index_col=0)\n",
    "df.shape"
   ]
  },
  {
   "cell_type": "code",
   "execution_count": null,
   "id": "81f8e60b",
   "metadata": {},
   "outputs": [],
   "source": [
    "df_temp = df[df['bytes_returned'] > 16*pow(1024,2)]\n",
    "exclude_cid = set(df_temp['cid'].unique())\n",
    "len(exclude_cid)"
   ]
  },
  {
   "cell_type": "code",
   "execution_count": null,
   "id": "7e006ac0",
   "metadata": {},
   "outputs": [],
   "source": [
    "df_temp = df[['agent','timestamp']].groupby(['agent']).count()\n",
    "df_temp = df_temp.rename(columns={\"timestamp\": \"count\"})\n",
    "df_temp = df_temp[df_temp['count']>10000]\n",
    "df_temp = df_temp.reset_index()\n",
    "exclude_agent = set(df_temp['agent'].unique())\n",
    "len(exclude_agent)"
   ]
  },
  {
   "cell_type": "code",
   "execution_count": null,
   "id": "5658a71a",
   "metadata": {},
   "outputs": [],
   "source": [
    "df1 = df[(~df['agent'].isin(exclude_agent)) & (~df['cid'].isin(exclude_cid))]\n",
    "df1.shape"
   ]
  },
  {
   "cell_type": "code",
   "execution_count": null,
   "id": "bbcf76fc",
   "metadata": {},
   "outputs": [],
   "source": [
    "df1.shape[0]/df.shape[0]"
   ]
  },
  {
   "cell_type": "code",
   "execution_count": null,
   "id": "38d76df0",
   "metadata": {},
   "outputs": [],
   "source": [
    "df1 = df1[['agent','bytes_returned']]\n",
    "df1['bytes_returned'] = df1['bytes_returned']/pow(1024,2)"
   ]
  },
  {
   "cell_type": "code",
   "execution_count": null,
   "id": "3734eacb",
   "metadata": {},
   "outputs": [],
   "source": [
    "def q10(x):\n",
    "    return x.quantile(0.1)\n",
    "\n",
    "def q90(x):\n",
    "    return x.quantile(0.9)\n",
    "\n",
    "df2 = df1.groupby(['agent']).agg(['min','median','max','mean'])\n",
    "df2.columns = df2.columns.get_level_values(1)\n",
    "df2 = df2.round(0).astype(int)\n",
    "df2 = df2.reset_index()\n",
    "df2.head()"
   ]
  },
  {
   "cell_type": "code",
   "execution_count": null,
   "id": "7d671c1e",
   "metadata": {},
   "outputs": [],
   "source": [
    "# df2[['max','min','mean']] = df2[['max','min','mean']].astype(int)\n",
    "df2['gap'] = df2['max'] - df2['min']\n",
    "df2 = df2.sort_values(by=['min','max'])\n",
    "\n",
    "df2 = df2.reset_index()\n",
    "df2 = df2.drop(['index'],axis=1)\n",
    "df2 = df2.reset_index()\n",
    "df2['idx_percentage'] = df2['index']/df2.shape[0]\n",
    "df2.head()"
   ]
  },
  {
   "cell_type": "code",
   "execution_count": null,
   "id": "cfa3e237",
   "metadata": {},
   "outputs": [],
   "source": [
    "df_temp = df2[(df2['min']==0) & (df2['gap']==0)]\n",
    "p1 = df_temp.shape[0]/df2.shape[0]\n",
    "p1"
   ]
  },
  {
   "cell_type": "code",
   "execution_count": null,
   "id": "8dd1e6c9",
   "metadata": {},
   "outputs": [],
   "source": [
    "fig = go.Figure()\n",
    "\n",
    "# Create and style traces\n",
    "fig.add_trace(go.Scatter(x=df2['idx_percentage'], y=df2['max'], name='max', line=dict(color='red')))\n",
    "fig.add_trace(go.Scatter(x=df2['idx_percentage'], y=df2['mean'], name='mean', line=dict(color='yellow')))\n",
    "fig.add_trace(go.Scatter(x=df2['idx_percentage'], y=df2['min'], name='min', line=dict(color='green')))\n",
    "\n",
    "# Edit the layout\n",
    "fig.update_layout(title='Request size by agent',\n",
    "                   xaxis_title='agent',\n",
    "                   yaxis_title='request size in MB')\n",
    "\n",
    "fig.add_vline(x=p1, line_width=1, line_dash=\"dash\", line_color=\"grey\",\n",
    "annotation_text=\"44.2% of total agent\", annotation_position=\"top right\")\n",
    "\n",
    "fig.update_xaxes(tickformat = ',.0%')\n",
    "\n",
    "# fig.update_xaxes(visible=True, showticklabels=False)\n",
    "# fig.update_yaxes(visible=True, showticklabels=True)\n",
    "\n",
    "fig.show()"
   ]
  }
 ],
 "metadata": {
  "kernelspec": {
   "display_name": "Python 3 (ipykernel)",
   "language": "python",
   "name": "python3"
  },
  "language_info": {
   "codemirror_mode": {
    "name": "ipython",
    "version": 3
   },
   "file_extension": ".py",
   "mimetype": "text/x-python",
   "name": "python",
   "nbconvert_exporter": "python",
   "pygments_lexer": "ipython3",
   "version": "3.9.6"
  },
  "toc": {
   "base_numbering": 1,
   "nav_menu": {},
   "number_sections": true,
   "sideBar": true,
   "skip_h1_title": false,
   "title_cell": "Table of Contents",
   "title_sidebar": "Contents",
   "toc_cell": false,
   "toc_position": {},
   "toc_section_display": true,
   "toc_window_display": false
  }
 },
 "nbformat": 4,
 "nbformat_minor": 5
}
