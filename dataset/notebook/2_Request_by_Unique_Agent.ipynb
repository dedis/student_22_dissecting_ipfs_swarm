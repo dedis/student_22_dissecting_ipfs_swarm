{
 "cells": [
  {
   "cell_type": "code",
   "execution_count": null,
   "id": "0fd9b7d6",
   "metadata": {},
   "outputs": [],
   "source": [
    "import pandas as pd\n",
    "import numpy as np\n",
    "from scipy import stats\n",
    "import plotly.express as px\n",
    "import plotly.graph_objects as go\n",
    "from plotly.subplots import make_subplots \n",
    "from tqdm.notebook import tqdm\n",
    "import re \n",
    "pd.set_option('max_columns', None)\n",
    "pd.options.display.max_colwidth = 100\n",
    "from pandas.api.types import CategoricalDtype"
   ]
  },
  {
   "cell_type": "code",
   "execution_count": null,
   "id": "f94f171f",
   "metadata": {},
   "outputs": [],
   "source": [
    "df = pd.read_csv('data.csv', index_col=0)\n",
    "df.shape"
   ]
  },
  {
   "cell_type": "code",
   "execution_count": null,
   "id": "1fdf8dec",
   "metadata": {},
   "outputs": [],
   "source": [
    "df7 = df[['cid','agent']].groupby('cid').agg(['count',pd.Series.nunique])\n",
    "df7.columns = df7.columns.get_level_values(1)\n",
    "df7 = df7.reset_index()\n",
    "df7 = df7.rename(columns={\"nunique\": \"unique\"})\n",
    "df7['count'] = df7['count'].astype(int)\n",
    "df7['unique'] = df7['unique'].astype(int)\n",
    "df7 = df7.sort_values(by=['count'], ascending=False)\n",
    "df7.head()"
   ]
  },
  {
   "cell_type": "code",
   "execution_count": null,
   "id": "0deb6f8d",
   "metadata": {},
   "outputs": [],
   "source": [
    "df7['count_type'] = ''\n",
    "\n",
    "def addCountType(l, r, name):\n",
    "    df7.loc[(df7['count'] >= l) & (df7['count'] < r), 'count_type'] = name\n",
    "\n",
    "addCountType(1, 2, '1')\n",
    "addCountType(2, 10, '[2,10)')\n",
    "addCountType(10, 100, '[10,100)')\n",
    "addCountType(100, 1000, '[100,1000)')\n",
    "addCountType(1000, 10000, '[1000,10000)')\n",
    "addCountType(10000, 100000, '[10000,100000)')\n",
    "\n",
    "df7[df7['count']>100000].shape[0]"
   ]
  },
  {
   "cell_type": "code",
   "execution_count": null,
   "id": "a7e2a97c",
   "metadata": {},
   "outputs": [],
   "source": [
    "df7['unique_type'] = ''\n",
    "\n",
    "def addUniqueType(l, r, name):\n",
    "    df7.loc[(df7['unique'] >= l) & (df7['unique'] < r), 'unique_type'] = name\n",
    "\n",
    "addUniqueType(1, 2, '1')\n",
    "addUniqueType(2, 10, '[2,10)')\n",
    "addUniqueType(10, 100, '[10,100)')\n",
    "addUniqueType(100, 1000, '[100,1000)')\n",
    "\n",
    "df7[df7['unique'] >= 1000].shape[0]"
   ]
  },
  {
   "cell_type": "code",
   "execution_count": null,
   "id": "1cf2c1a5",
   "metadata": {},
   "outputs": [],
   "source": [
    "df8 = df7[['count_type','unique_type','cid']].groupby(['count_type','unique_type']).agg('count')\n",
    "df8 = df8.rename(columns={\"cid\": \"count\"})\n",
    "df8 = df8.reset_index()\n",
    "total = df8['count'].sum()\n",
    "df8['percentage'] = df8['count']/total*100\n",
    "df8['percentage'] = df8['percentage'].apply(lambda x:round(x,3))"
   ]
  },
  {
   "cell_type": "code",
   "execution_count": null,
   "id": "5f884fd2",
   "metadata": {},
   "outputs": [],
   "source": [
    "df8.head()"
   ]
  },
  {
   "cell_type": "code",
   "execution_count": null,
   "id": "a6629a16",
   "metadata": {},
   "outputs": [],
   "source": [
    "df8.groupby('unique_type').agg('sum')"
   ]
  },
  {
   "cell_type": "code",
   "execution_count": null,
   "id": "53aeb44f",
   "metadata": {},
   "outputs": [],
   "source": [
    "cat_unique_order = CategoricalDtype(\n",
    "    ['1', '[2,10)', '[10,100)', '[100,1000)'], \n",
    "    ordered=True\n",
    ")\n",
    "df8['unique_type'] = df8['unique_type'].astype(cat_unique_order)\n",
    "df8 = df8.sort_values('unique_type')\n",
    "\n",
    "cat_count_order = CategoricalDtype(\n",
    "    ['1', '[2,10)', '[10,100)', '[100,1000)','[1000,10000)','[10000,100000)'], \n",
    "    ordered=True\n",
    ")\n",
    "df8['count_type'] = df8['count_type'].astype(cat_count_order)\n",
    "df8 = df8.sort_values('count_type')\n",
    "df8 = df8.dropna()\n",
    "df8.head()"
   ]
  },
  {
   "cell_type": "code",
   "execution_count": null,
   "id": "648160bf",
   "metadata": {},
   "outputs": [],
   "source": [
    "data = df8.pivot(index='unique_type', columns='count_type', values='count')\n",
    "data = np.log(data)\n",
    "data = data.fillna(0)\n",
    "data.head()"
   ]
  },
  {
   "cell_type": "code",
   "execution_count": null,
   "id": "08c51400",
   "metadata": {},
   "outputs": [],
   "source": [
    "text = df8.pivot(index='unique_type', columns='count_type', values='percentage')\n",
    "\n",
    "text = text.T\n",
    "text['1'] = text['1'] .astype(str) + \"%\"\n",
    "text['[2,10)'] = text['[2,10)'] .astype(str) + \"%\"\n",
    "text['[10,100)'] = text['[10,100)'] .astype(str) + \"%\"\n",
    "text['[100,1000)'] = text['[100,1000)'] .astype(str) + \"%\"\n",
    "\n",
    "text = text.T\n",
    "text = text.replace(\"nan%\",\"0%\")\n",
    "text.head()"
   ]
  },
  {
   "cell_type": "code",
   "execution_count": null,
   "id": "c81d44f5",
   "metadata": {},
   "outputs": [],
   "source": [
    "fig = px.imshow(data, \n",
    "                origin='lower',\n",
    "               labels=dict(color=\"percentage of total cid\"), text_auto=True)\n",
    "fig = fig.update_traces(text=text, texttemplate=\"%{text}\", hovertemplate=None)\n",
    "\n",
    "fig.update_xaxes(side='bottom')\n",
    "fig.update_xaxes(title=\"range of times each cid is requested\")\n",
    "fig.update_yaxes(title=\"range of unique user agents each cid is requested by\")\n",
    "\n",
    "fig.show()"
   ]
  },
  {
   "cell_type": "code",
   "execution_count": null,
   "id": "6531eea5",
   "metadata": {},
   "outputs": [],
   "source": [
    "data = df7[df7['count']>100]\n",
    "data = data.reset_index().drop(['index'],axis=1).reset_index()\n",
    "data['idx_percentage'] = data['index']/data.shape[0]\n",
    "data.head()"
   ]
  },
  {
   "cell_type": "code",
   "execution_count": null,
   "id": "31faa90f",
   "metadata": {},
   "outputs": [],
   "source": [
    "fig = go.Figure([\n",
    "    go.Scatter(\n",
    "        name='total number of times<br>cid is requested',\n",
    "        mode='lines',\n",
    "        x=data['idx_percentage'],\n",
    "        y=data['count']\n",
    "    ),\n",
    "    go.Scatter(\n",
    "        name='number of unique user agent<br>cid is requested by',\n",
    "        mode='lines',\n",
    "        x=data['idx_percentage'],\n",
    "        y=data['unique']\n",
    "    )\n",
    "])\n",
    "\n",
    "# fig.update_xaxes(visible=False, showticklabels=False)\n",
    "fig.update_xaxes(tickformat = ',.0%')\n",
    "fig.update_yaxes(type=\"log\")\n",
    "\n",
    "fig.update_layout(xaxis_title='cid (request time >100 and sorted by request time)', yaxis_title='count (log scale)')\n",
    "\n",
    "fig.show()"
   ]
  }
 ],
 "metadata": {
  "kernelspec": {
   "display_name": "Python 3 (ipykernel)",
   "language": "python",
   "name": "python3"
  },
  "language_info": {
   "codemirror_mode": {
    "name": "ipython",
    "version": 3
   },
   "file_extension": ".py",
   "mimetype": "text/x-python",
   "name": "python",
   "nbconvert_exporter": "python",
   "pygments_lexer": "ipython3",
   "version": "3.9.6"
  },
  "toc": {
   "base_numbering": 1,
   "nav_menu": {},
   "number_sections": true,
   "sideBar": true,
   "skip_h1_title": false,
   "title_cell": "Table of Contents",
   "title_sidebar": "Contents",
   "toc_cell": false,
   "toc_position": {},
   "toc_section_display": true,
   "toc_window_display": false
  }
 },
 "nbformat": 4,
 "nbformat_minor": 5
}
