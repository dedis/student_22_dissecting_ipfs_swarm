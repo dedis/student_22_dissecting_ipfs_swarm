{
 "cells": [
  {
   "cell_type": "code",
   "execution_count": null,
   "id": "70cc95ae",
   "metadata": {},
   "outputs": [],
   "source": [
    "import pandas as pd\n",
    "import numpy as np\n",
    "import plotly.express as px\n",
    "import plotly.graph_objects as go\n",
    "pd.set_option('max_columns', None)"
   ]
  },
  {
   "cell_type": "markdown",
   "id": "abb9ab33",
   "metadata": {},
   "source": [
    "# IPFS"
   ]
  },
  {
   "cell_type": "code",
   "execution_count": null,
   "id": "8ad76622",
   "metadata": {},
   "outputs": [],
   "source": [
    "df1 = pd.read_csv('1205_peer_ipfs.txt', sep=' ', header=None)\n",
    "df1 = df1.rename(columns={0:\"a\",1:\"b\",2:\"c\"})\n",
    "# get timestamp\n",
    "df1['timestamp'] = df1['a'].map(str) +\" \"+ df1['b'].map(str)\n",
    "df1['timestamp'] = df1['timestamp'].str.strip('[]')\n",
    "df1['datetime'] = pd.to_datetime(df1['timestamp'])\n",
    "# get peer\n",
    "df1['peer'] = df1['c'].apply(lambda x: x.split('/')[-1])\n",
    "df1['ip'] = df1['c'].apply(lambda x: x.split('/')[2])\n",
    "df1 = df1.drop(['a','b','c','timestamp'],axis=1)\n",
    "df1 = df1.drop_duplicates()\n",
    "df1.shape"
   ]
  },
  {
   "cell_type": "code",
   "execution_count": null,
   "id": "c504f8c3",
   "metadata": {},
   "outputs": [],
   "source": [
    "df1.head()"
   ]
  },
  {
   "cell_type": "code",
   "execution_count": null,
   "id": "2c171aeb",
   "metadata": {},
   "outputs": [],
   "source": [
    "len(df1['ip'].unique())"
   ]
  },
  {
   "cell_type": "code",
   "execution_count": null,
   "id": "9a9e2eec",
   "metadata": {},
   "outputs": [],
   "source": [
    "len(df1['peer'].unique())"
   ]
  },
  {
   "cell_type": "code",
   "execution_count": null,
   "id": "6d4a196f",
   "metadata": {},
   "outputs": [],
   "source": [
    "def getPivotDataframe(df):\n",
    "    df1 = df.copy()\n",
    "    df1['value'] = 1\n",
    "    \n",
    "    df2 = df1.pivot(index='datetime', columns='peer', values='value').T\n",
    "    df2 = df2.fillna(0)\n",
    "    # sort peers by order of occurance\n",
    "    ll = list(df2.columns.strftime('%Y-%m-%d %H:%M:%S'))\n",
    "    df2 = df2.sort_values(by=ll, axis=0, ascending=False)\n",
    "\n",
    "    df2 = df2.reset_index()\n",
    "    df2 = df2.drop(['peer'],axis=1)\n",
    "    \n",
    "    return df2"
   ]
  },
  {
   "cell_type": "code",
   "execution_count": null,
   "id": "26463709",
   "metadata": {},
   "outputs": [],
   "source": [
    "df2 = getPivotDataframe(df1)\n",
    "df2.head()"
   ]
  },
  {
   "cell_type": "code",
   "execution_count": null,
   "id": "f1219956",
   "metadata": {},
   "outputs": [],
   "source": [
    "fig = px.imshow(df2, color_continuous_scale=\"Cividis\", origin='lower')\n",
    "fig.update_xaxes(title=\"timestamp\")\n",
    "fig.update_yaxes(title=\"peer\")\n",
    "fig.show()"
   ]
  },
  {
   "cell_type": "code",
   "execution_count": null,
   "id": "3ccb52c9",
   "metadata": {},
   "outputs": [],
   "source": [
    "df1_2 = df1[df1['datetime'].dt.strftime('%H:%M:%S').between('00:00:00','02:00:00')]\n",
    "\n",
    "df2_2 = getPivotDataframe(df1_2)\n",
    "df2_2.shape"
   ]
  },
  {
   "cell_type": "code",
   "execution_count": null,
   "id": "02c1228e",
   "metadata": {},
   "outputs": [],
   "source": [
    "fig = px.imshow(df2_2, color_continuous_scale=\"Cividis\", origin='lower')\n",
    "fig.update_xaxes(title=\"timestamp\")\n",
    "fig.update_yaxes(title=\"peer\")\n",
    "fig.show()"
   ]
  },
  {
   "cell_type": "markdown",
   "id": "49e3f51b",
   "metadata": {},
   "source": [
    "# Swarm"
   ]
  },
  {
   "cell_type": "code",
   "execution_count": null,
   "id": "8709725b",
   "metadata": {},
   "outputs": [],
   "source": [
    "df3 = pd.read_csv('1205_peer_swarm.txt', sep=' ', header=None)\n",
    "df3 = df3.dropna()\n",
    "\n",
    "df4 = pd.DataFrame(columns=['timestamp', 'peer'])\n",
    "\n",
    "def func(a, i):\n",
    "    a[i] = a[i].split('\"')[3]\n",
    "\n",
    "for index, row in df3.iterrows():\n",
    "    timestamp = (row[0]+\" \"+row[1]).strip('[]')\n",
    "    strs = row[2].split('{')[2:]\n",
    "    list(map(lambda i:func(strs, i), range(0, len(strs))))\n",
    "    df_temp = pd.DataFrame(strs)\n",
    "    df_temp = df_temp.rename(columns={0: \"peer\"})\n",
    "    df_temp['timestamp'] = timestamp\n",
    "    df4 = pd.concat([df_temp, df4])\n",
    "\n",
    "df4['datetime'] = pd.to_datetime(df4['timestamp'])\n",
    "df4 = df4.drop(['timestamp'],axis=1)\n",
    "df4.shape"
   ]
  },
  {
   "cell_type": "code",
   "execution_count": null,
   "id": "9e1c0317",
   "metadata": {},
   "outputs": [],
   "source": [
    "df4.head()"
   ]
  },
  {
   "cell_type": "code",
   "execution_count": null,
   "id": "fa469681",
   "metadata": {},
   "outputs": [],
   "source": [
    "len(df4['peer'].unique())"
   ]
  },
  {
   "cell_type": "code",
   "execution_count": null,
   "id": "3c45de0b",
   "metadata": {},
   "outputs": [],
   "source": [
    "df5 = getPivotDataframe(df4)\n",
    "df5.head()"
   ]
  },
  {
   "cell_type": "code",
   "execution_count": null,
   "id": "aca2fac9",
   "metadata": {},
   "outputs": [],
   "source": [
    "fig = px.imshow(df5, color_continuous_scale=\"Cividis\", origin='lower')\n",
    "fig.update_xaxes(title=\"timestamp\")\n",
    "fig.update_yaxes(title=\"peer\")\n",
    "fig.show()"
   ]
  },
  {
   "cell_type": "code",
   "execution_count": null,
   "id": "53625c97",
   "metadata": {},
   "outputs": [],
   "source": [
    "df4_2 = df4[df4['datetime'].dt.strftime('%H:%M:%S').between('00:00:00','02:00:00')]\n",
    "\n",
    "df5_2 = getPivotDataframe(df4_2)\n",
    "df5_2.shape"
   ]
  },
  {
   "cell_type": "code",
   "execution_count": null,
   "id": "2d3bc2d7",
   "metadata": {},
   "outputs": [],
   "source": [
    "fig = px.imshow(df5_2, color_continuous_scale=\"Cividis\", origin='lower')\n",
    "fig.update_xaxes(title=\"timestamp\")\n",
    "fig.update_yaxes(title=\"peer\")\n",
    "fig.show()"
   ]
  },
  {
   "cell_type": "markdown",
   "id": "9391b71e",
   "metadata": {},
   "source": [
    "# Compare"
   ]
  },
  {
   "cell_type": "code",
   "execution_count": null,
   "id": "d5946f95",
   "metadata": {},
   "outputs": [],
   "source": [
    "df6 = df1[['peer','datetime']].groupby('datetime').agg('count')\n",
    "df6 = df6.rename(columns={'peer':'count'})\n",
    "df6 = df6.reset_index()\n",
    "df6['node'] = 'ipfs'"
   ]
  },
  {
   "cell_type": "code",
   "execution_count": null,
   "id": "e90eb92f",
   "metadata": {},
   "outputs": [],
   "source": [
    "df6.describe()"
   ]
  },
  {
   "cell_type": "code",
   "execution_count": null,
   "id": "30b1b8c1",
   "metadata": {},
   "outputs": [],
   "source": [
    "df7 = df4[['peer','datetime']].groupby('datetime').agg('count')\n",
    "df7 = df7.rename(columns={'peer':'count'})\n",
    "df7 = df7.reset_index()\n",
    "df7['node'] = 'swarm'"
   ]
  },
  {
   "cell_type": "code",
   "execution_count": null,
   "id": "953c9709",
   "metadata": {},
   "outputs": [],
   "source": [
    "df7.describe()"
   ]
  },
  {
   "cell_type": "code",
   "execution_count": null,
   "id": "2e3415de",
   "metadata": {},
   "outputs": [],
   "source": [
    "df8 = pd.concat([df6, df7])\n",
    "df8.head()"
   ]
  },
  {
   "cell_type": "code",
   "execution_count": null,
   "id": "a6fa4604",
   "metadata": {},
   "outputs": [],
   "source": [
    "fig = px.line(df8, x='datetime', y='count', color='node')\n",
    "fig.update_yaxes(title=\"number of connected peers\")\n",
    "fig.show()"
   ]
  },
  {
   "cell_type": "code",
   "execution_count": null,
   "id": "9b0ca1c4",
   "metadata": {},
   "outputs": [],
   "source": []
  }
 ],
 "metadata": {
  "kernelspec": {
   "display_name": "Python 3 (ipykernel)",
   "language": "python",
   "name": "python3"
  },
  "language_info": {
   "codemirror_mode": {
    "name": "ipython",
    "version": 3
   },
   "file_extension": ".py",
   "mimetype": "text/x-python",
   "name": "python",
   "nbconvert_exporter": "python",
   "pygments_lexer": "ipython3",
   "version": "3.9.6"
  },
  "toc": {
   "base_numbering": 1,
   "nav_menu": {},
   "number_sections": true,
   "sideBar": true,
   "skip_h1_title": false,
   "title_cell": "Table of Contents",
   "title_sidebar": "Contents",
   "toc_cell": false,
   "toc_position": {},
   "toc_section_display": true,
   "toc_window_display": false
  }
 },
 "nbformat": 4,
 "nbformat_minor": 5
}
